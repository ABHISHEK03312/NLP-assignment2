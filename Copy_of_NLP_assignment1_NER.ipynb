{
  "cells": [
    {
      "cell_type": "markdown",
      "metadata": {
        "id": "fVFSuS_Qd8a8"
      },
      "source": [
        "# End-to-end Sequence Labeling via Bi-directional LSTM-CNNs-CRF"
      ]
    },
    {
      "cell_type": "code",
      "execution_count": null,
      "metadata": {
        "colab": {
          "base_uri": "https://localhost:8080/"
        },
        "id": "EjPHqwtTeGLs",
        "outputId": "34a9f9ad-9487-4983-b6a6-c9f37077addd"
      },
      "outputs": [
        {
          "name": "stdout",
          "output_type": "stream",
          "text": [
            "Mounted at /content/drive\n"
          ]
        }
      ],
      "source": [
        "from google.colab import drive\n",
        "drive.mount('/content/drive')"
      ]
    },
    {
      "cell_type": "markdown",
      "metadata": {
        "id": "J_jpIXnLd8a-"
      },
      "source": [
        "In this tutorial we will demonstrate how to implement a state of the art  Bi-directional LSTM-CNN-CRF architecture (Published at ACL'16. [Link To Paper](http://www.aclweb.org/anthology/P16-1101)) for Named Entity Recognition using Pytorch. \n",
        "\n",
        "The main aim of the tutorial is to make the audience comfortable with pytorch using this tutorial and give a step-by-step walk through of the Bi-LSTM-CNN-CRF architecture for NER. Some familiarity with pytorch (or any other deep learning framework) would definitely be a plus. \n",
        "\n",
        "The agenda of this tutorial is as follows:\n",
        "\n",
        "1. Getting Ready with the data \n",
        "2. Network Definition. This includes\n",
        "    * CNN Encoder for Character Level representation.\n",
        "    * Bi-directional LSTM for Word-Level Encoding.\n",
        "    * Conditional Random Fields(CRF) for output decoding\n",
        "3. Training \n",
        "4. Model testing\n",
        "\n",
        "This tutorial draws its content/design heavily from [this](https://github.com/ZhixiuYe/NER-pytorch) Github implementation of NER model. We reuse their data preprocessing/Model creation methodology. This helps in focussing more on explaining model architecture and it's translation from formulae to code. "
      ]
    },
    {
      "cell_type": "markdown",
      "metadata": {
        "id": "x5f_B-Ygd8a_"
      },
      "source": [
        "### Data Preparation\n",
        "\n",
        "The paper uses the English data from CoNLL 2003 shared task\\[1\\], which is present in the \"data\" directory of this project. We will later apply more preprocessing steps to generate tag mapping, word mapping and character  mapping. The data set contains four different types of named entities: PERSON, LOCATION, ORGANIZATION, and MISC and uses the BIO tagging scheme\n",
        "\n",
        "BIO tagging Scheme:\n",
        "\n",
        "    I - Word is inside a phrase of type TYPE\n",
        "    B - If two phrases of the same type immediately follow each other, the first word of the second phrase will have tag B-TYPE \n",
        "    O - Word is not part of a phrase\n",
        "    \n",
        "Example of English-NER sentence available in the data:\n",
        "    \n",
        "    U.N.         NNP  I-NP  I-ORG \n",
        "    official     NN   I-NP  O \n",
        "    Ekeus        NNP  I-NP  I-PER \n",
        "    heads        VBZ  I-VP  O \n",
        "    for          IN   I-PP  O \n",
        "    Baghdad      NNP  I-NP  I-LOC \n",
        "    .            .    O     O \n",
        "    \n",
        "Data Split(We use the same split as mentioned in paper):\n",
        "\n",
        "    Training Data - eng.train\n",
        "    Validation Data - eng.testa\n",
        "    Testing Data - eng.testb\n",
        "    \n",
        "\n",
        " To get started we first import the necessary libraries"
      ]
    },
    {
      "cell_type": "code",
      "execution_count": null,
      "metadata": {
        "id": "jDBwMyA3d8a_"
      },
      "outputs": [],
      "source": [
        "from __future__ import print_function\n",
        "from collections import OrderedDict\n",
        "\n",
        "import torch\n",
        "import torch.nn as nn\n",
        "from torch.nn import init\n",
        "from torch.autograd import Variable\n",
        "from torch import autograd\n",
        "import pandas as pd\n",
        "import time\n",
        "import _pickle as cPickle\n",
        "\n",
        "import urllib\n",
        "import matplotlib.pyplot as plt\n",
        "plt.rcParams['figure.dpi'] = 80\n",
        "plt.style.use('seaborn-pastel')\n",
        "\n",
        "import os\n",
        "import sys\n",
        "import codecs\n",
        "import re\n",
        "import numpy as np\n",
        "import datetime\n",
        "import logging"
      ]
    },
    {
      "cell_type": "markdown",
      "metadata": {
        "id": "q70P7rBzd8bB"
      },
      "source": [
        "##### Define constants and paramaters"
      ]
    },
    {
      "cell_type": "markdown",
      "metadata": {
        "id": "Z9_0b_QWd8bB"
      },
      "source": [
        "We now define some constants and parameters that we will be using later"
      ]
    },
    {
      "cell_type": "code",
      "execution_count": null,
      "metadata": {
        "id": "A0I_W1Dvd8bC"
      },
      "outputs": [],
      "source": [
        "#parameters for the Model\n",
        "parameters = OrderedDict()\n",
        "parameters['train'] = \"/content/drive/MyDrive/NLP-assignment2/data/eng.train\" #Path to train file\n",
        "parameters['dev'] = \"/content/drive/MyDrive/NLP-assignment2/data/eng.testa\" #Path to test file\n",
        "parameters['test'] = \"/content/drive/MyDrive/NLP-assignment2/data/eng.testb\" #Path to dev file\n",
        "parameters['tag_scheme'] = \"BIOES\" #BIO or BIOES\n",
        "parameters['lower'] = True # Boolean variable to control lowercasing of words\n",
        "parameters['zeros'] =  True # Boolean variable to control replacement of  all digits by 0 \n",
        "parameters['char_dim'] = 30 #Char embedding dimension\n",
        "parameters['word_dim'] = 100 #Token embedding dimension\n",
        "parameters['word_lstm_dim'] = 200 #Token LSTM hidden layer size\n",
        "parameters['word_bidirect'] = True #Use a bidirectional LSTM for words\n",
        "parameters['embedding_path'] = \"/content/drive/MyDrive/NLP-assignment2/data/glove.6B.100d.txt\" #Location of pretrained embeddings\n",
        "parameters['all_emb'] = 1 #Load all embeddings\n",
        "parameters['crf'] =1 #Use CRF (0 to disable)\n",
        "parameters['dropout'] = 0.5 #Droupout on the input (0 = no dropout)\n",
        "parameters['epoch'] =  50 #Number of epochs to run\"\n",
        "parameters['weights'] = \"\" #path to Pretrained for from a previous run\n",
        "parameters['name'] = \"self-trained-model\" # Model name\n",
        "parameters['gradient_clip']=5.0\n",
        "parameters['char_mode']=\"CNN\"\n",
        "parameters['word_mode']= \"CNN\"   # This parameter needs to be reset when training new model\n",
        "parameters['cnn_layers']= 6      # This parameter needs to be reset when training new model\n",
        "models_path = \"/content/drive/MyDrive/NLP-assignment2/models/\" #path to saved models\n",
        "\n",
        "#GPU\n",
        "parameters['use_gpu'] = torch.cuda.is_available() #GPU Check\n",
        "use_gpu = parameters['use_gpu']\n",
        "\n",
        "parameters['reload'] = \"/content/drive/MyDrive/NLP-assignment2/models/2021-11-03-CNN-CNN-6-Conv2d-CRF-MODEL\" \n",
        "\n",
        "#Constants\n",
        "START_TAG = '<START>'\n",
        "STOP_TAG = '<STOP>'"
      ]
    },
    {
      "cell_type": "code",
      "execution_count": null,
      "metadata": {
        "id": "liQCgiK5d8bD"
      },
      "outputs": [],
      "source": [
        "#paths to files \n",
        "#To stored mapping file\n",
        "mapping_file = '/content/drive/MyDrive/NLP-assignment2/data/mapping.pkl'\n",
        "\n",
        "#To stored model\n",
        "name = parameters['name']\n",
        "model_name = models_path + name #get_name(parameters)\n",
        "\n",
        "if not os.path.exists(models_path):\n",
        "    os.makedirs(models_path)"
      ]
    },
    {
      "cell_type": "markdown",
      "metadata": {
        "id": "TtuYM3ozd8bD"
      },
      "source": [
        "##### Load data and preprocess"
      ]
    },
    {
      "cell_type": "code",
      "execution_count": null,
      "metadata": {
        "colab": {
          "base_uri": "https://localhost:8080/"
        },
        "id": "pWADFB5H8GjE",
        "outputId": "d5325681-88cf-42da-dc30-a4ad6da1b17b"
      },
      "outputs": [
        {
          "name": "stdout",
          "output_type": "stream",
          "text": [
            "model name: %s /content/drive/MyDrive/NLP-assignment2/models/2021-11-03-CNN-CNN-6-Conv2d-CRF-MODEL\n",
            "log name: %s /content/drive/MyDrive/NLP-assignment2/logs/2021-11-03-CNN-CNN-6-Conv2d-CRF-MODEL.txt\n"
          ]
        }
      ],
      "source": [
        "def run_dir_preparation():\n",
        "  #To stored model\n",
        "  # name = parameters['name']\n",
        "  date_object = datetime.date.today()\n",
        "  if parameters['word_mode'] == 'CNN':\n",
        "    name = str(date_object) + \"-\" + parameters['char_mode'] + \"-\" + parameters['word_mode'] + \"-\" + str(parameters['cnn_layers']) + \"-Conv\" + str(parameters['conv_dim']) + \"d-\" + prob + \"-MODEL\"\n",
        "  else:\n",
        "    name = str(date_object) + \"-\" + parameters['char_mode'] + \"-\" + parameters['word_mode'] + \"-\" + prob + \"-MODEL\"\n",
        "  model_name = models_path + name #get_name(parameters)\n",
        "  print(\"model name: %s\", model_name)\n",
        "\n",
        "  if not os.path.exists(models_path):\n",
        "    os.makedirs(models_path)\n",
        "  return model_name\n",
        "\n",
        "model_name = run_dir_preparation()"
      ]
    },
    {
      "cell_type": "code",
      "execution_count": null,
      "metadata": {
        "id": "9fLRWIZ5d8bE"
      },
      "outputs": [],
      "source": [
        "def zero_digits(s):\n",
        "    \"\"\"\n",
        "    Replace every digit in a string by a zero.\n",
        "    \"\"\"\n",
        "    return re.sub('\\d', '0', s)\n",
        "\n",
        "def load_sentences(path, zeros):\n",
        "    \"\"\"\n",
        "    Load sentences. A line must contain at least a word and its tag.\n",
        "    Sentences are separated by empty lines.\n",
        "    \"\"\"\n",
        "    sentences = []\n",
        "    sentence = []\n",
        "    for line in codecs.open(path, 'r', 'utf8'):\n",
        "        line = zero_digits(line.rstrip()) if zeros else line.rstrip()\n",
        "        if not line:\n",
        "            if len(sentence) > 0:\n",
        "                if 'DOCSTART' not in sentence[0][0]:\n",
        "                    sentences.append(sentence)\n",
        "                sentence = []\n",
        "        else:\n",
        "            word = line.split()\n",
        "            assert len(word) >= 2\n",
        "            sentence.append(word)\n",
        "    if len(sentence) > 0:\n",
        "        if 'DOCSTART' not in sentence[0][0]:\n",
        "            sentences.append(sentence)\n",
        "    return sentences"
      ]
    },
    {
      "cell_type": "code",
      "execution_count": null,
      "metadata": {
        "id": "XnwJE-9Pd8bF"
      },
      "outputs": [],
      "source": [
        "train_sentences = load_sentences(parameters['train'], parameters['zeros'])\n",
        "test_sentences = load_sentences(parameters['test'], parameters['zeros'])\n",
        "dev_sentences = load_sentences(parameters['dev'], parameters['zeros'])"
      ]
    },
    {
      "cell_type": "markdown",
      "metadata": {
        "id": "HWvqWU83d8bF"
      },
      "source": [
        "##### Update tagging scheme"
      ]
    },
    {
      "cell_type": "markdown",
      "metadata": {
        "id": "cIHt4ia5d8bG"
      },
      "source": [
        "Different types of tagging schemes can be used for NER. We update the tags for train, test and dev data ( depending on the parameters \\[ tag_scheme \\] ).\n",
        "\n",
        "In the paper, the authors use the tagging Scheme ( BIOES ) rather than BIO (which is used by the dataset). So, we need to first update the data to convert tag scheme from BIO to BIOES.\n",
        "\n",
        "BIOES tagging scheme:\n",
        "\n",
        "    I - Word is inside a phrase of type TYPE\n",
        "    B - If two phrases of the same type immediately follow each other, the first word of the second phrase will have tag B-TYPE \n",
        "    O - Word is not part of a phrase\n",
        "    E - End ( E will not appear in a prefix-only partial match )\n",
        "    S - Single"
      ]
    },
    {
      "cell_type": "code",
      "execution_count": null,
      "metadata": {
        "id": "lKPcZTtid8bG"
      },
      "outputs": [],
      "source": [
        "def iob2(tags):\n",
        "    \"\"\"\n",
        "    Check that tags have a valid BIO format.\n",
        "    Tags in BIO1 format are converted to BIO2.\n",
        "    \"\"\"\n",
        "    for i, tag in enumerate(tags):\n",
        "        if tag == 'O':\n",
        "            continue\n",
        "        split = tag.split('-')\n",
        "        if len(split) != 2 or split[0] not in ['I', 'B']:\n",
        "            return False\n",
        "        if split[0] == 'B':\n",
        "            continue\n",
        "        elif i == 0 or tags[i - 1] == 'O':  # conversion IOB1 to IOB2\n",
        "            tags[i] = 'B' + tag[1:]\n",
        "        elif tags[i - 1][1:] == tag[1:]:\n",
        "            continue\n",
        "        else:  # conversion IOB1 to IOB2\n",
        "            tags[i] = 'B' + tag[1:]\n",
        "    return True\n",
        "\n",
        "def iob_iobes(tags):\n",
        "    \"\"\"\n",
        "    the function is used to convert\n",
        "    BIO -> BIOES tagging\n",
        "    \"\"\"\n",
        "    new_tags = []\n",
        "    for i, tag in enumerate(tags):\n",
        "        if tag == 'O':\n",
        "            new_tags.append(tag)\n",
        "        elif tag.split('-')[0] == 'B':\n",
        "            if i + 1 != len(tags) and \\\n",
        "               tags[i + 1].split('-')[0] == 'I':\n",
        "                new_tags.append(tag)\n",
        "            else:\n",
        "                new_tags.append(tag.replace('B-', 'S-'))\n",
        "        elif tag.split('-')[0] == 'I':\n",
        "            if i + 1 < len(tags) and \\\n",
        "                    tags[i + 1].split('-')[0] == 'I':\n",
        "                new_tags.append(tag)\n",
        "            else:\n",
        "                new_tags.append(tag.replace('I-', 'E-'))\n",
        "        else:\n",
        "            raise Exception('Invalid IOB format!')\n",
        "    return new_tags\n",
        "\n",
        "def update_tag_scheme(sentences, tag_scheme):\n",
        "    \"\"\"\n",
        "    Check and update sentences tagging scheme to BIO2\n",
        "    Only BIO1 and BIO2 schemes are accepted for input data.\n",
        "    \"\"\"\n",
        "    for i, s in enumerate(sentences):\n",
        "        tags = [w[-1] for w in s]\n",
        "        # Check that tags are given in the BIO format\n",
        "        if not iob2(tags):\n",
        "            s_str = '\\n'.join(' '.join(w) for w in s)\n",
        "            raise Exception('Sentences should be given in BIO format! ' +\n",
        "                            'Please check sentence %i:\\n%s' % (i, s_str))\n",
        "        if tag_scheme == 'BIOES':\n",
        "            new_tags = iob_iobes(tags)\n",
        "            for word, new_tag in zip(s, new_tags):\n",
        "                word[-1] = new_tag\n",
        "        else:\n",
        "            raise Exception('Wrong tagging scheme!')"
      ]
    },
    {
      "cell_type": "code",
      "execution_count": null,
      "metadata": {
        "id": "b18q-HQ9d8bH"
      },
      "outputs": [],
      "source": [
        "update_tag_scheme(train_sentences, parameters['tag_scheme'])\n",
        "update_tag_scheme(dev_sentences, parameters['tag_scheme'])\n",
        "update_tag_scheme(test_sentences, parameters['tag_scheme'])"
      ]
    },
    {
      "cell_type": "markdown",
      "metadata": {
        "id": "pRDgNFagd8bH"
      },
      "source": [
        "##### Create Mappings for Words, Characters and Tags"
      ]
    },
    {
      "cell_type": "markdown",
      "metadata": {
        "id": "H7urU25Ud8bI"
      },
      "source": [
        "After we have updated the tag scheme. We now have a list of sentences which are words along with their modified tags. Now, we want to map these individual words, tags and characters in each word, to unique numerical ID's so that each unique word, character and tag in the vocabulary is represented by a particular integer ID. To do this, we first create a functions that do these mapping for us"
      ]
    },
    {
      "cell_type": "markdown",
      "metadata": {
        "id": "9DHpXIemd8bI"
      },
      "source": [
        "##### Why mapping is important?"
      ]
    },
    {
      "cell_type": "markdown",
      "metadata": {
        "id": "gKZsqN1Ld8bI"
      },
      "source": [
        "These indices for words, tags and characters help us employ matrix (tensor) operations inside the neural network architecture, which are considerably faster."
      ]
    },
    {
      "cell_type": "code",
      "execution_count": null,
      "metadata": {
        "id": "JCFL6D-pd8bJ"
      },
      "outputs": [],
      "source": [
        "def create_dico(item_list):\n",
        "    \"\"\"\n",
        "    Create a dictionary of items from a list of list of items.\n",
        "    \"\"\"\n",
        "    assert type(item_list) is list\n",
        "    dico = {}\n",
        "    for items in item_list:\n",
        "        for item in items:\n",
        "            if item not in dico:\n",
        "                dico[item] = 1\n",
        "            else:\n",
        "                dico[item] += 1\n",
        "    return dico\n",
        "\n",
        "def create_mapping(dico):\n",
        "    \"\"\"\n",
        "    Create a mapping (item to ID / ID to item) from a dictionary.\n",
        "    Items are ordered by decreasing frequency.\n",
        "    \"\"\"\n",
        "    sorted_items = sorted(dico.items(), key=lambda x: (-x[1], x[0]))\n",
        "    id_to_item = {i: v[0] for i, v in enumerate(sorted_items)}\n",
        "    item_to_id = {v: k for k, v in id_to_item.items()}\n",
        "    return item_to_id, id_to_item\n",
        "\n",
        "def word_mapping(sentences, lower):\n",
        "    \"\"\"\n",
        "    Create a dictionary and a mapping of words, sorted by frequency.\n",
        "    \"\"\"\n",
        "    words = [[x[0].lower() if lower else x[0] for x in s] for s in sentences]\n",
        "    dico = create_dico(words)\n",
        "    dico['<UNK>'] = 10000000 #UNK tag for unknown words\n",
        "    word_to_id, id_to_word = create_mapping(dico)\n",
        "    print(\"Found %i unique words (%i in total)\" % (\n",
        "        len(dico), sum(len(x) for x in words)\n",
        "    ))\n",
        "    return dico, word_to_id, id_to_word\n",
        "\n",
        "def char_mapping(sentences):\n",
        "    \"\"\"\n",
        "    Create a dictionary and mapping of characters, sorted by frequency.\n",
        "    \"\"\"\n",
        "    chars = [\"\".join([w[0] for w in s]) for s in sentences]\n",
        "    dico = create_dico(chars)\n",
        "    char_to_id, id_to_char = create_mapping(dico)\n",
        "    print(\"Found %i unique characters\" % len(dico))\n",
        "    return dico, char_to_id, id_to_char\n",
        "\n",
        "def tag_mapping(sentences):\n",
        "    \"\"\"\n",
        "    Create a dictionary and a mapping of tags, sorted by frequency.\n",
        "    \"\"\"\n",
        "    tags = [[word[-1] for word in s] for s in sentences]\n",
        "    dico = create_dico(tags)\n",
        "    dico[START_TAG] = -1\n",
        "    dico[STOP_TAG] = -2\n",
        "    tag_to_id, id_to_tag = create_mapping(dico)\n",
        "    print(\"Found %i unique named entity tags\" % len(dico))\n",
        "    print(tag_to_id)\n",
        "    return dico, tag_to_id, id_to_tag"
      ]
    },
    {
      "cell_type": "code",
      "execution_count": null,
      "metadata": {
        "colab": {
          "base_uri": "https://localhost:8080/"
        },
        "id": "CndMFef4d8bJ",
        "outputId": "ec758108-bcb1-4aee-8531-4969c1e3ff6f"
      },
      "outputs": [
        {
          "name": "stdout",
          "output_type": "stream",
          "text": [
            "Found 17493 unique words (203621 in total)\n",
            "Found 75 unique characters\n",
            "Found 19 unique named entity tags\n",
            "{'O': 0, 'S-LOC': 1, 'B-PER': 2, 'E-PER': 3, 'S-ORG': 4, 'S-MISC': 5, 'B-ORG': 6, 'E-ORG': 7, 'S-PER': 8, 'I-ORG': 9, 'B-LOC': 10, 'E-LOC': 11, 'B-MISC': 12, 'E-MISC': 13, 'I-MISC': 14, 'I-PER': 15, 'I-LOC': 16, '<START>': 17, '<STOP>': 18}\n"
          ]
        }
      ],
      "source": [
        "dico_words,word_to_id,id_to_word = word_mapping(train_sentences, parameters['lower'])\n",
        "dico_chars, char_to_id, id_to_char = char_mapping(train_sentences)\n",
        "dico_tags, tag_to_id, id_to_tag = tag_mapping(train_sentences)"
      ]
    },
    {
      "cell_type": "markdown",
      "metadata": {
        "id": "3WmpYb5rd8bK"
      },
      "source": [
        "##### Preparing final dataset"
      ]
    },
    {
      "cell_type": "markdown",
      "metadata": {
        "id": "wPw204acd8bK"
      },
      "source": [
        "The function prepare dataset returns a list of dictionaries ( one dictionary per each sentence )\n",
        "\n",
        "Each of the dictionary returned by the function contains\n",
        "    1. list of all words in the sentence\n",
        "    2. list of word index for all words in the sentence\n",
        "    3. list of lists, containing character id of each character for words in the sentence\n",
        "    4. list of tag for each word in the sentence."
      ]
    },
    {
      "cell_type": "code",
      "execution_count": null,
      "metadata": {
        "id": "Gv8CTbyid8bK"
      },
      "outputs": [],
      "source": [
        "def lower_case(x,lower=False):\n",
        "    if lower:\n",
        "        return x.lower()  \n",
        "    else:\n",
        "        return x"
      ]
    },
    {
      "cell_type": "code",
      "execution_count": null,
      "metadata": {
        "colab": {
          "base_uri": "https://localhost:8080/"
        },
        "id": "3mt-Wc8gd8bL",
        "outputId": "5f742d3f-6af0-4f29-db7c-6779c048cdff"
      },
      "outputs": [
        {
          "name": "stdout",
          "output_type": "stream",
          "text": [
            "{'str_words': ['AL-AIN', ',', 'United', 'Arab', 'Emirates', '0000-00-00'], 'words': [0, 3, 168, 1064, 12075, 23], 'chars': [[26, 37, 22, 26, 30, 32], [23], [48, 3, 4, 2, 0, 10], [26, 6, 1, 21], [31, 14, 4, 6, 1, 2, 0, 7], [8, 8, 8, 8, 22, 8, 8, 22, 8, 8]], 'tags': [1, 0, 10, 16, 11, 0]}\n",
            "14041 / 3250 / 3453 sentences in train / dev / test.\n"
          ]
        }
      ],
      "source": [
        "def prepare_dataset(sentences, word_to_id, char_to_id, tag_to_id, lower=False):\n",
        "    \"\"\"\n",
        "    Prepare the dataset. Return a list of lists of dictionaries containing:\n",
        "        - word indexes\n",
        "        - word char indexes\n",
        "        - tag indexes\n",
        "    \"\"\"\n",
        "    data = []\n",
        "    for s in sentences:\n",
        "        str_words = [w[0] for w in s]\n",
        "        words = [word_to_id[lower_case(w,lower) if lower_case(w,lower) in word_to_id else '<UNK>']\n",
        "                 for w in str_words]\n",
        "        # Skip characters that are not in the training set\n",
        "        chars = [[char_to_id[c] for c in w if c in char_to_id]\n",
        "                 for w in str_words]\n",
        "        tags = [tag_to_id[w[-1]] for w in s]\n",
        "        data.append({\n",
        "            'str_words': str_words,\n",
        "            'words': words,\n",
        "            'chars': chars,\n",
        "            'tags': tags,\n",
        "        })\n",
        "    return data\n",
        "\n",
        "train_data = prepare_dataset(\n",
        "    train_sentences, word_to_id, char_to_id, tag_to_id, parameters['lower']\n",
        ")\n",
        "dev_data = prepare_dataset(\n",
        "    dev_sentences, word_to_id, char_to_id, tag_to_id, parameters['lower']\n",
        ")\n",
        "test_data = prepare_dataset(\n",
        "    test_sentences, word_to_id, char_to_id, tag_to_id, parameters['lower']\n",
        ")\n",
        "print(test_data[2])\n",
        "print(\"{} / {} / {} sentences in train / dev / test.\".format(len(train_data), len(dev_data), len(test_data)))"
      ]
    },
    {
      "cell_type": "markdown",
      "metadata": {
        "id": "MBup8d5yd8bL"
      },
      "source": [
        "We are  done with the preprocessing step for input data. It ready to be given as input to the model ! ! !"
      ]
    },
    {
      "cell_type": "markdown",
      "metadata": {
        "id": "wY3ezYSQd8bM"
      },
      "source": [
        "##### Load Word Embeddings\n",
        "\n",
        "Now, We move to the next step of loading the pre-trained word embeddings.\n",
        "\n",
        "The paper uses glove vectors 100 dimension vectors trained on the ( Wikipedia 2014 + Gigaword 5 ) corpus containing 6 Billion Words. The word embedding file ( glove.6B.100d.txt ) is placed in the data folder."
      ]
    },
    {
      "cell_type": "code",
      "execution_count": null,
      "metadata": {
        "colab": {
          "base_uri": "https://localhost:8080/"
        },
        "id": "FWDVOLrgd8bM",
        "outputId": "4f54166f-10eb-4c6d-f056-fc9e284882dc"
      },
      "outputs": [
        {
          "name": "stdout",
          "output_type": "stream",
          "text": [
            "Loaded 400000 pretrained embeddings.\n"
          ]
        }
      ],
      "source": [
        "all_word_embeds = {}\n",
        "for i, line in enumerate(codecs.open(parameters['embedding_path'], 'r', 'utf-8')):\n",
        "    s = line.strip().split()\n",
        "    if len(s) == parameters['word_dim'] + 1:\n",
        "        # print(len(s))\n",
        "        all_word_embeds[s[0]] = np.array([float(i) for i in s[1:]])\n",
        "\n",
        "#Intializing Word Embedding Matrix\n",
        "word_embeds = np.random.uniform(-np.sqrt(0.06), np.sqrt(0.06), (len(word_to_id), parameters['word_dim']))\n",
        "\n",
        "for w in word_to_id:\n",
        "    if w in all_word_embeds:\n",
        "        word_embeds[word_to_id[w]] = all_word_embeds[w]\n",
        "    elif w.lower() in all_word_embeds:\n",
        "        word_embeds[word_to_id[w]] = all_word_embeds[w.lower()]\n",
        "print('Loaded %i pretrained embeddings.' % len(all_word_embeds))"
      ]
    },
    {
      "cell_type": "markdown",
      "metadata": {
        "id": "9AC5YLnEd8bM"
      },
      "source": [
        "##### Storing Processed Data for Reuse\n",
        "\n",
        "We can store the preprocessed data and the embedding matrix for future reuse. This helps us avoid the time taken by the step of preprocessing, when we are trying to tune the hyper parameters for the model."
      ]
    },
    {
      "cell_type": "code",
      "execution_count": null,
      "metadata": {
        "colab": {
          "base_uri": "https://localhost:8080/"
        },
        "id": "UZQKxEijd8bN",
        "outputId": "c425376e-dabb-4a1d-a09a-894594fec389"
      },
      "outputs": [
        {
          "name": "stdout",
          "output_type": "stream",
          "text": [
            "word_to_id:  17493\n"
          ]
        }
      ],
      "source": [
        "with open(mapping_file, 'wb') as f:\n",
        "    mappings = {\n",
        "        'word_to_id': word_to_id,\n",
        "        'tag_to_id': tag_to_id,\n",
        "        'char_to_id': char_to_id,\n",
        "        'parameters': parameters,\n",
        "        'word_embeds': word_embeds\n",
        "    }\n",
        "    cPickle.dump(mappings, f)\n",
        "\n",
        "print('word_to_id: ', len(word_to_id))"
      ]
    },
    {
      "cell_type": "markdown",
      "metadata": {
        "id": "v12VdhRVd8bN"
      },
      "source": [
        "### Model\n"
      ]
    },
    {
      "cell_type": "markdown",
      "metadata": {
        "id": "bXsvR5oId8bN"
      },
      "source": [
        "The model that we are presenting is a complicated one, since its a hybridized network using LSTMs and CNNs. So in order to break down the complexity, we have attempted to simplify the process by splitting up operations into individual functions that we can go over part by part. This hopefully makes the whole thing more easily digestable and gives a more intuitive understanding of the whole process."
      ]
    },
    {
      "cell_type": "markdown",
      "metadata": {
        "id": "2M1_k6RVd8bN"
      },
      "source": [
        "##### Initialization of weights"
      ]
    },
    {
      "cell_type": "markdown",
      "metadata": {
        "id": "AJFOWfQ9d8bO"
      },
      "source": [
        "We start with the init_embedding function, which just initializes the embedding layer by pooling from a random sample. \n",
        "\n",
        "The distribution is pooled from $-\\sqrt{\\frac{3}{V}}$ to $+\\sqrt{\\frac{3}{V}}$ where $V$ is the embedding dimension size."
      ]
    },
    {
      "cell_type": "code",
      "execution_count": null,
      "metadata": {
        "id": "yNoEKtgNd8bO"
      },
      "outputs": [],
      "source": [
        "def init_embedding(input_embedding):\n",
        "    \"\"\"\n",
        "    Initialize embedding\n",
        "    \"\"\"\n",
        "    bias = np.sqrt(3.0 / input_embedding.size(1))\n",
        "    nn.init.uniform(input_embedding, -bias, bias)"
      ]
    },
    {
      "cell_type": "markdown",
      "metadata": {
        "id": "rdPZXXUCd8bO"
      },
      "source": [
        "Similar to the initialization above, except this is for the linear layer."
      ]
    },
    {
      "cell_type": "code",
      "execution_count": null,
      "metadata": {
        "id": "4Fqd5iIvd8bO"
      },
      "outputs": [],
      "source": [
        "def init_linear(input_linear):\n",
        "    \"\"\"\n",
        "    Initialize linear transformation\n",
        "    \"\"\"\n",
        "    bias = np.sqrt(6.0 / (input_linear.weight.size(0) + input_linear.weight.size(1)))\n",
        "    nn.init.uniform(input_linear.weight, -bias, bias)\n",
        "    if input_linear.bias is not None:\n",
        "        input_linear.bias.data.zero_()"
      ]
    },
    {
      "cell_type": "markdown",
      "metadata": {
        "id": "w5EoKYf3d8bP"
      },
      "source": [
        "This is the initialization scheme for the LSTM layers. \n",
        "\n",
        "The LSTM layers are initialized by uniform sampling from $-\\sqrt{\\frac{6}{r+c}}$ to $+\\sqrt{\\frac{6}{r+c}}$. Where $r$ is the number of rows, $c$ is the number of columns (based on the shape of the weight matrix)."
      ]
    },
    {
      "cell_type": "code",
      "execution_count": null,
      "metadata": {
        "id": "81rlBlord8bP"
      },
      "outputs": [],
      "source": [
        "def init_lstm(input_lstm):\n",
        "    \"\"\"\n",
        "    Initialize lstm\n",
        "    \n",
        "    PyTorch weights parameters:\n",
        "    \n",
        "        weight_ih_l[k]: the learnable input-hidden weights of the k-th layer,\n",
        "            of shape `(hidden_size * input_size)` for `k = 0`. Otherwise, the shape is\n",
        "            `(hidden_size * hidden_size)`\n",
        "            \n",
        "        weight_hh_l[k]: the learnable hidden-hidden weights of the k-th layer,\n",
        "            of shape `(hidden_size * hidden_size)`            \n",
        "    \"\"\"\n",
        "    \n",
        "    # Weights init for forward layer\n",
        "    for ind in range(0, input_lstm.num_layers):\n",
        "        \n",
        "        ## Gets the weights Tensor from our model, for the input-hidden weights in our current layer\n",
        "        weight = eval('input_lstm.weight_ih_l' + str(ind))\n",
        "        \n",
        "        # Initialize the sampling range\n",
        "        sampling_range = np.sqrt(6.0 / (weight.size(0) / 4 + weight.size(1)))\n",
        "        \n",
        "        # Randomly sample from our samping range using uniform distribution and apply it to our current layer\n",
        "        nn.init.uniform(weight, -sampling_range, sampling_range)\n",
        "        \n",
        "        # Similar to above but for the hidden-hidden weights of the current layer\n",
        "        weight = eval('input_lstm.weight_hh_l' + str(ind))\n",
        "        sampling_range = np.sqrt(6.0 / (weight.size(0) / 4 + weight.size(1)))\n",
        "        nn.init.uniform(weight, -sampling_range, sampling_range)\n",
        "        \n",
        "        \n",
        "    # We do the above again, for the backward layer if we are using a bi-directional LSTM (our final model uses this)\n",
        "    if input_lstm.bidirectional:\n",
        "        for ind in range(0, input_lstm.num_layers):\n",
        "            weight = eval('input_lstm.weight_ih_l' + str(ind) + '_reverse')\n",
        "            sampling_range = np.sqrt(6.0 / (weight.size(0) / 4 + weight.size(1)))\n",
        "            nn.init.uniform(weight, -sampling_range, sampling_range)\n",
        "            weight = eval('input_lstm.weight_hh_l' + str(ind) + '_reverse')\n",
        "            sampling_range = np.sqrt(6.0 / (weight.size(0) / 4 + weight.size(1)))\n",
        "            nn.init.uniform(weight, -sampling_range, sampling_range)\n",
        "\n",
        "    # Bias initialization steps\n",
        "    \n",
        "    # We initialize them to zero except for the forget gate bias, which is initialized to 1\n",
        "    if input_lstm.bias:\n",
        "        for ind in range(0, input_lstm.num_layers):\n",
        "            bias = eval('input_lstm.bias_ih_l' + str(ind))\n",
        "            \n",
        "            # Initializing to zero\n",
        "            bias.data.zero_()\n",
        "            \n",
        "            # This is the range of indices for our forget gates for each LSTM cell\n",
        "            bias.data[input_lstm.hidden_size: 2 * input_lstm.hidden_size] = 1\n",
        "            \n",
        "            #Similar for the hidden-hidden layer\n",
        "            bias = eval('input_lstm.bias_hh_l' + str(ind))\n",
        "            bias.data.zero_()\n",
        "            bias.data[input_lstm.hidden_size: 2 * input_lstm.hidden_size] = 1\n",
        "            \n",
        "        # Similar to above, we do for backward layer if we are using a bi-directional LSTM \n",
        "        if input_lstm.bidirectional:\n",
        "            for ind in range(0, input_lstm.num_layers):\n",
        "                bias = eval('input_lstm.bias_ih_l' + str(ind) + '_reverse')\n",
        "                bias.data.zero_()\n",
        "                bias.data[input_lstm.hidden_size: 2 * input_lstm.hidden_size] = 1\n",
        "                bias = eval('input_lstm.bias_hh_l' + str(ind) + '_reverse')\n",
        "                bias.data.zero_()\n",
        "                bias.data[input_lstm.hidden_size: 2 * input_lstm.hidden_size] = 1"
      ]
    },
    {
      "cell_type": "markdown",
      "metadata": {
        "id": "iMUdWRihd8bP"
      },
      "source": [
        "##### CRF Layer\n",
        "\n",
        "We have two options: \n",
        "\n",
        "* softmax: normalize the scores into a vector such that can be interpreted as the probability that the word belongs to class. Eventually, the probability of a sequence of tag $y$ is the product of all tags.\n",
        "\n",
        "\n",
        "* linear-chain CRF: the first method makes local choices. In other words, even if we capture some information from the context thanks to the bi-LSTM, the tagging decision is still local. We don’t make use of the neighbooring tagging decisions. Given a sequence of words $w_1,…,w_m$, a sequence of score vectors $s_1,…,s_m$ and a sequence of tags $y_1,…,y_m$, a linear-chain CRF defines a global score $C \\in \\mathbb{R}$ such that\n",
        "\n",
        "$$% <![CDATA[\n",
        "\\begin{align*}\n",
        "C(y_1, \\ldots, y_m) &= b[y_1] &+ \\sum_{t=1}^{m} s_t [y_t] &+ \\sum_{t=1}^{m-1} T[y_{t}, y_{t+1}] &+ e[y_m]\\\\\n",
        "                    &= \\text{begin} &+ \\text{scores} &+ \\text{transitions} &+ \\text{end}\n",
        "\\end{align*} %]]>$$\n",
        "\n",
        "where $T$ is a transition matrix in $R^{9×9}$ and $e,b \\in R^9$ are vectors of scores that capture the cost of beginning or ending with a given tag. The use of the matrix $T$ captures linear (one step) dependencies between tagging decisions.\n",
        "\n",
        "The motivation behind CRFs was to generate sentence level likelihoods for optimal tags. What that means is for each word we estimate maximum likelihood and then we use the Viterbi algorithm to decode the tag sequence optimally.\n",
        "\n",
        "\n",
        "**Advantages of CRF over Softmax:**\n",
        "* Softmax doesn't value any dependencies, this is a problem since NER the context heavily influences the tag that is assigned. This is solved by applying CRF as it takes into account the full sequence to assign the tag. \n",
        "* *Example: I-ORG cannot directly follow I-PER.*\n",
        "\n",
        "<img src = \"https://github.com/TheAnig/NER-LSTM-CNN-Pytorch/raw/master/images/crf_mode.png\"></img>\n",
        "<a href=\"https://arxiv.org/pdf/1508.01991.pdf\">(Image Source)</a>\n",
        "\n",
        "The figure shows a simple CRF network, in our case we have the inputs feeding in from our BiLSTMs, but otherwise the structure largely remains the same."
      ]
    },
    {
      "cell_type": "markdown",
      "metadata": {
        "id": "5jnGmMRrd8bQ"
      },
      "source": [
        "##### Evaluation schemes: Forward pass and Viterbi algorithm"
      ]
    },
    {
      "cell_type": "markdown",
      "metadata": {
        "id": "83tkgcM6d8bQ"
      },
      "source": [
        "Recall that the CRF computes a conditional probability. Let $y$ be a tag sequence and $x$ an input sequence of words. Then we compute\n",
        "\n",
        "$$P(y|x) = \\frac{\\exp{(\\text{Score}(x, y)})}{\\sum_{y'} \\exp{(\\text{Score}(x, y')})}$$\n",
        "\n",
        "Where the score is determined by defining some log potentials $\\log \\psi_i(x,y)$ such that\n",
        "\n",
        "$$\\text{Score}(x,y) = \\sum_i \\log \\psi_i(x,y)$$\n",
        "\n",
        "In our model, we define two kinds of potentials: emission and transition. The emission potential for the word at index $i$ comes from the hidden state of the Bi-LSTM at timestep $i$. The transition scores are stored in a $|T|x|T|$ matrix $P$, where $T$ is the tag set. In my implementation, $P_{j,k}$ is the score of transitioning to tag $j$ from tag $k$. So:\n",
        "\n",
        "$$\\text{Score}(x,y) = \\sum_i \\log \\psi_\\text{EMIT}(y_i \\rightarrow x_i) + \\log \\psi_\\text{TRANS}(y_{i-1} \\rightarrow y_i)$$\n",
        "$$= \\sum_i h_i[y_i] + \\textbf{P}_{y_i, y_{i-1}}$$"
      ]
    },
    {
      "cell_type": "markdown",
      "metadata": {
        "id": "fdV19e9id8bQ"
      },
      "source": [
        "##### Helper Functions"
      ]
    },
    {
      "cell_type": "markdown",
      "metadata": {
        "id": "hCkWgNV9d8bR"
      },
      "source": [
        "Now, we define some helper functions for numerical operations and score calculations"
      ]
    },
    {
      "cell_type": "code",
      "execution_count": null,
      "metadata": {
        "id": "Dp8uHHSVd8bR"
      },
      "outputs": [],
      "source": [
        "def log_sum_exp(vec):\n",
        "    '''\n",
        "    This function calculates the score explained above for the forward algorithm\n",
        "    vec 2D: 1 * tagset_size\n",
        "    '''\n",
        "    max_score = vec[0, argmax(vec)]\n",
        "    max_score_broadcast = max_score.view(1, -1).expand(1, vec.size()[1])\n",
        "    return max_score + torch.log(torch.sum(torch.exp(vec - max_score_broadcast)))\n",
        "    \n",
        "def argmax(vec):\n",
        "    '''\n",
        "    This function returns the max index in a vector\n",
        "    '''\n",
        "    _, idx = torch.max(vec, 1)\n",
        "    return to_scalar(idx)\n",
        "\n",
        "def to_scalar(var):\n",
        "    '''\n",
        "    Function to convert pytorch tensor to a scalar\n",
        "    '''\n",
        "    return var.view(-1).data.tolist()[0]"
      ]
    },
    {
      "cell_type": "markdown",
      "metadata": {
        "id": "B3_Mhu1Qd8bR"
      },
      "source": [
        "##### Helper function to calculate score\n",
        "\n",
        "This is a score function for our sentences. \n",
        "\n",
        "This function takes two things, a list of ground truths that tell us what the corresponding tags are, the other are the features which contains the supposed tagged parts of the function. Which is then used to compute the score."
      ]
    },
    {
      "cell_type": "code",
      "execution_count": null,
      "metadata": {
        "id": "mohZJC4Wd8bS"
      },
      "outputs": [],
      "source": [
        "def score_sentences(self, feats, tags):\n",
        "    # tags is ground_truth, a list of ints, length is len(sentence)\n",
        "    # feats is a 2D tensor, len(sentence) * tagset_size\n",
        "    r = torch.LongTensor(range(feats.size()[0]))\n",
        "    if self.use_gpu:\n",
        "        r = r.cuda()\n",
        "        pad_start_tags = torch.cat([torch.cuda.LongTensor([self.tag_to_ix[START_TAG]]), tags])\n",
        "        pad_stop_tags = torch.cat([tags, torch.cuda.LongTensor([self.tag_to_ix[STOP_TAG]])])\n",
        "    else:\n",
        "        pad_start_tags = torch.cat([torch.LongTensor([self.tag_to_ix[START_TAG]]), tags])\n",
        "        pad_stop_tags = torch.cat([tags, torch.LongTensor([self.tag_to_ix[STOP_TAG]])])\n",
        "\n",
        "    score = torch.sum(self.transitions[pad_stop_tags, pad_start_tags]) + torch.sum(feats[r, tags])\n",
        "\n",
        "    return score"
      ]
    },
    {
      "cell_type": "markdown",
      "metadata": {
        "id": "0FZVFx2jd8bS"
      },
      "source": [
        "##### Implementation of Forward Algorithm"
      ]
    },
    {
      "cell_type": "code",
      "execution_count": null,
      "metadata": {
        "id": "HIQxBGV7d8bS"
      },
      "outputs": [],
      "source": [
        "def forward_alg(self, feats):\n",
        "    '''\n",
        "    This function performs the forward algorithm explained above\n",
        "    '''\n",
        "    # calculate in log domain\n",
        "    # feats is len(sentence) * tagset_size\n",
        "    # initialize alpha with a Tensor with values all equal to -10000.\n",
        "    \n",
        "    # Do the forward algorithm to compute the partition function\n",
        "    init_alphas = torch.Tensor(1, self.tagset_size).fill_(-10000.)\n",
        "    \n",
        "    # START_TAG has all of the score.\n",
        "    init_alphas[0][self.tag_to_ix[START_TAG]] = 0.\n",
        "    \n",
        "    # Wrap in a variable so that we will get automatic backprop\n",
        "    forward_var = autograd.Variable(init_alphas)\n",
        "    if self.use_gpu:\n",
        "        forward_var = forward_var.cuda()\n",
        "        \n",
        "    # Iterate through the sentence\n",
        "    for feat in feats:\n",
        "        # broadcast the emission score: it is the same regardless of\n",
        "        # the previous tag\n",
        "        emit_score = feat.view(-1, 1)\n",
        "        \n",
        "        # the ith entry of trans_score is the score of transitioning to\n",
        "        # next_tag from i\n",
        "        tag_var = forward_var + self.transitions + emit_score\n",
        "        \n",
        "        # The ith entry of next_tag_var is the value for the\n",
        "        # edge (i -> next_tag) before we do log-sum-exp\n",
        "        max_tag_var, _ = torch.max(tag_var, dim=1)\n",
        "        \n",
        "        # The forward variable for this tag is log-sum-exp of all the\n",
        "        # scores.\n",
        "        tag_var = tag_var - max_tag_var.view(-1, 1)\n",
        "        \n",
        "        # Compute log sum exp in a numerically stable way for the forward algorithm\n",
        "        forward_var = max_tag_var + torch.log(torch.sum(torch.exp(tag_var), dim=1)).view(1, -1) # ).view(1, -1)\n",
        "    terminal_var = (forward_var + self.transitions[self.tag_to_ix[STOP_TAG]]).view(1, -1)\n",
        "    alpha = log_sum_exp(terminal_var)\n",
        "    # Z(x)\n",
        "    return alpha"
      ]
    },
    {
      "cell_type": "markdown",
      "metadata": {
        "id": "RGxef7Xkd8bS"
      },
      "source": [
        "##### Viterbi decode"
      ]
    },
    {
      "cell_type": "markdown",
      "metadata": {
        "id": "zokvYyLYd8bT"
      },
      "source": [
        "Viterbi decode is basically applying dynamic programming to choosing our tag sequence. Let’s suppose that we have the solution $\\tilde{s}_{t+1} (y^{t+1})$ for time steps $t + 1, ...., m$ for sequences that start with $y^{t+1}$ for each of the possible $y^{t+1}$. Then the solution $\\tilde{s}_t(y_t)$ for time steps $t, ..., m$ that starts with $y_t$ verifies \n",
        "\n",
        "$$ % <![CDATA[\n",
        "\\begin{align*}\n",
        "\\tilde{s}_t(y_t) &= \\operatorname{argmax}_{y_t, \\ldots, y_m} C(y_t, \\ldots, y_m)\\\\\n",
        "            &= \\operatorname{argmax}_{y_{t+1}} s_t [y_t] + T[y_{t}, y_{t+1}] + \\tilde{s}_{t+1}(y^{t+1})\n",
        "\\end{align*} %]]>$$\n",
        "\n",
        "Then, we can easily define the probability of a given sequence of tags as\n",
        "\n",
        "$$ \\mathbb{P}(y_1, \\ldots, y_m) = \\frac{e^{C(y_1, \\ldots, y_m)}}{Z} $$"
      ]
    },
    {
      "cell_type": "markdown",
      "metadata": {
        "id": "zgNq54z-d8bT"
      },
      "source": [
        "##### Implementation of Viterbi Algorithm"
      ]
    },
    {
      "cell_type": "code",
      "execution_count": null,
      "metadata": {
        "id": "JA3mkLQbd8bT"
      },
      "outputs": [],
      "source": [
        "def viterbi_algo(self, feats):\n",
        "    '''\n",
        "    In this function, we implement the viterbi algorithm explained above.\n",
        "    A Dynamic programming based approach to find the best tag sequence\n",
        "    '''\n",
        "    backpointers = []\n",
        "    # analogous to forward\n",
        "    \n",
        "    # Initialize the viterbi variables in log space\n",
        "    init_vvars = torch.Tensor(1, self.tagset_size).fill_(-10000.)\n",
        "    init_vvars[0][self.tag_to_ix[START_TAG]] = 0\n",
        "    \n",
        "    # forward_var at step i holds the viterbi variables for step i-1\n",
        "    forward_var = Variable(init_vvars)\n",
        "    if self.use_gpu:\n",
        "        forward_var = forward_var.cuda()\n",
        "    for feat in feats:\n",
        "        next_tag_var = forward_var.view(1, -1).expand(self.tagset_size, self.tagset_size) + self.transitions\n",
        "        _, bptrs_t = torch.max(next_tag_var, dim=1)\n",
        "        bptrs_t = bptrs_t.squeeze().data.cpu().numpy() # holds the backpointers for this step\n",
        "        next_tag_var = next_tag_var.data.cpu().numpy() \n",
        "        viterbivars_t = next_tag_var[range(len(bptrs_t)), bptrs_t] # holds the viterbi variables for this step\n",
        "        viterbivars_t = Variable(torch.FloatTensor(viterbivars_t))\n",
        "        if self.use_gpu:\n",
        "            viterbivars_t = viterbivars_t.cuda()\n",
        "            \n",
        "        # Now add in the emission scores, and assign forward_var to the set\n",
        "        # of viterbi variables we just computed\n",
        "        forward_var = viterbivars_t + feat\n",
        "        backpointers.append(bptrs_t)\n",
        "\n",
        "    # Transition to STOP_TAG\n",
        "    terminal_var = forward_var + self.transitions[self.tag_to_ix[STOP_TAG]]\n",
        "    terminal_var.data[self.tag_to_ix[STOP_TAG]] = -10000.\n",
        "    terminal_var.data[self.tag_to_ix[START_TAG]] = -10000.\n",
        "    best_tag_id = argmax(terminal_var.unsqueeze(0))\n",
        "    path_score = terminal_var[best_tag_id]\n",
        "    \n",
        "    # Follow the back pointers to decode the best path.\n",
        "    best_path = [best_tag_id]\n",
        "    for bptrs_t in reversed(backpointers):\n",
        "        best_tag_id = bptrs_t[best_tag_id]\n",
        "        best_path.append(best_tag_id)\n",
        "        \n",
        "    # Pop off the start tag (we dont want to return that to the caller)\n",
        "    start = best_path.pop()\n",
        "    assert start == self.tag_to_ix[START_TAG] # Sanity check\n",
        "    best_path.reverse()\n",
        "    return path_score, best_path"
      ]
    },
    {
      "cell_type": "code",
      "execution_count": null,
      "metadata": {
        "id": "4Zs2qCHxd8bU"
      },
      "outputs": [],
      "source": [
        "def forward_calc(self, sentence, chars, chars2_length, d):\n",
        "    \n",
        "    '''\n",
        "    The function calls viterbi decode and generates the \n",
        "    most probable sequence of tags for the sentence\n",
        "    '''\n",
        "    \n",
        "    # Get the emission scores from the BiLSTM\n",
        "    feats = self._get_lstm_features(sentence, chars, chars2_length, d)\n",
        "    # viterbi to get tag_seq\n",
        "    \n",
        "    # Find the best path, given the features.\n",
        "    if self.use_crf:\n",
        "        score, tag_seq = self.viterbi_decode(feats)\n",
        "    else:\n",
        "        score, tag_seq = torch.max(feats, 1)\n",
        "        tag_seq = list(tag_seq.cpu().data)\n",
        "\n",
        "    return score, tag_seq"
      ]
    },
    {
      "cell_type": "markdown",
      "metadata": {
        "id": "kMeVu2TPd8bU"
      },
      "source": [
        "### Details fo the Model"
      ]
    },
    {
      "cell_type": "markdown",
      "metadata": {
        "id": "XWLxPNmed8bU"
      },
      "source": [
        "##### 1. CNN model for generating character embeddings\n",
        "\n",
        "\n",
        "Consider the word 'cat', we pad it on both ends to get our maximum word length ( this is mainly an implementation quirk since we can't have variable length layers at run time, our algorithm will ignore the pads).\n",
        "\n",
        "We then apply a convolution layer on top that generates spatial coherence across characters, we use a maxpool to extract meaningful features out of our convolution layer. This now gives us a dense vector representation of each word. This representation will be concatenated with the pre-trained GloVe embeddings using a simple lookup.\n",
        "\n",
        "\n",
        "<img src = \"https://github.com/TheAnig/NER-LSTM-CNN-Pytorch/raw/master/images/cnn_model.png\"></img>\n",
        "<a href=\"http://www.aclweb.org/anthology/P16-1101\">Image Source</a>\n",
        "\n",
        "\n",
        "This snippet shows us how the CNN is implemented in pytorch\n",
        "\n",
        "`self.char_cnn3 = nn.Conv2d(in_channels=1, out_channels=self.out_channels, kernel_size=(3, char_embedding_dim), padding=(2,0))`\n",
        "\n",
        "##### 2. Rest of the model (LSTM based) that generates tags for the given sequence\n",
        "\n",
        "The word-embeddings( glove+char embedding ) that we generated above, we feed to a bi-directional LSTM model. The LSTM model has 2 layers, \n",
        "* The forward layer takes in a sequence of word vectors and generates a new vector based on what it has seen so far in the forward direction (starting from the start word up until current word) this vector can be thought of as a summary of all the words it has seen. \n",
        "\n",
        "* The backwards layer does the same but in opposite direction, i.e., from the end of the sentence to the current word.\n",
        "\n",
        "The forward vector and the backwards vector at current word concatanate to generate a unified representation.\n",
        "\n",
        "<img src = \"https://github.com/TheAnig/NER-LSTM-CNN-Pytorch/raw/master/images/lstm_model.png\"></img>\n",
        "<a href=\"http://www.aclweb.org/anthology/P16-1101\">Image Source</a>\n",
        "\n",
        "This snippet shows us how the BiLSTM is implemented in pytorch\n",
        "\n",
        "`self.lstm = nn.LSTM(embedding_dim+self.out_channels, hidden_dim, bidirectional=True)`\n",
        "\n",
        "Finally, we have a linear layer to map hidden vectors to tag space."
      ]
    },
    {
      "cell_type": "markdown",
      "metadata": {
        "id": "ONjYoLFzd8bU"
      },
      "source": [
        "##### Main Model Implementation"
      ]
    },
    {
      "cell_type": "markdown",
      "metadata": {
        "id": "_ddCElPJd8bU"
      },
      "source": [
        "The get_lstm_features function returns the LSTM's tag vectors. The function performs all the steps mentioned above for the model.\n",
        "\n",
        "Steps:\n",
        "1. It takes in characters, converts them to embeddings using our character CNN.\n",
        "2. We concat Character Embeeding with glove vectors, use this as features that we feed to Bidirectional-LSTM. \n",
        "3. The Bidirectional-LSTM generates outputs based on these set of features.\n",
        "4. The output are passed through a linear layer to convert to tag space."
      ]
    },
    {
      "cell_type": "code",
      "execution_count": null,
      "metadata": {
        "id": "WED_u_dod8bV"
      },
      "outputs": [],
      "source": [
        "def get_lstm_features(self, sentence, chars2, chars2_length, d):\n",
        "    \n",
        "    if self.char_mode == 'LSTM':\n",
        "        \n",
        "            chars_embeds = self.char_embeds(chars2).transpose(0, 1)\n",
        "            \n",
        "            packed = torch.nn.utils.rnn.pack_padded_sequence(chars_embeds, chars2_length)\n",
        "            \n",
        "            lstm_out, _ = self.char_lstm(packed)\n",
        "            \n",
        "            outputs, output_lengths = torch.nn.utils.rnn.pad_packed_sequence(lstm_out)\n",
        "            \n",
        "            outputs = outputs.transpose(0, 1)\n",
        "            \n",
        "            chars_embeds_temp = Variable(torch.FloatTensor(torch.zeros((outputs.size(0), outputs.size(2)))))\n",
        "            \n",
        "            if self.use_gpu:\n",
        "                chars_embeds_temp = chars_embeds_temp.cuda()\n",
        "            \n",
        "            for i, index in enumerate(output_lengths):\n",
        "                chars_embeds_temp[i] = torch.cat((outputs[i, index-1, :self.char_lstm_dim], outputs[i, 0, self.char_lstm_dim:]))\n",
        "            \n",
        "            chars_embeds = chars_embeds_temp.clone()\n",
        "            \n",
        "            for i in range(chars_embeds.size(0)):\n",
        "                chars_embeds[d[i]] = chars_embeds_temp[i]\n",
        "    \n",
        "    \n",
        "    if self.char_mode == 'CNN':\n",
        "        chars_embeds = self.char_embeds(chars2).unsqueeze(1)\n",
        "\n",
        "        ## Creating Character level representation using Convolutional Neural Netowrk\n",
        "        ## followed by a Maxpooling Layer\n",
        "        chars_cnn_out3 = self.char_cnn3(chars_embeds)\n",
        "        chars_embeds = nn.functional.max_pool2d(chars_cnn_out3,\n",
        "                                             kernel_size=(chars_cnn_out3.size(2), 1)).view(chars_cnn_out3.size(0), self.out_channels)\n",
        "\n",
        "        ## Loading word embeddings\n",
        "    embeds = self.word_embeds(sentence)\n",
        "\n",
        "    ## We concatenate the word embeddings and the character level representation\n",
        "    ## to create unified representation for each word\n",
        "    embeds = torch.cat((embeds, chars_embeds), 1)\n",
        "\n",
        "    embeds = embeds.unsqueeze(1)\n",
        "\n",
        "    ## Dropout on the unified embeddings\n",
        "    embeds = self.dropout(embeds)\n",
        "    if self.word_mode == 'LSTM':\n",
        "        ## Word lstm\n",
        "        ## Takes words as input and generates a output at each step\n",
        "        word_out, _ = self.lstm(embeds)\n",
        "        ## Dropout on the lstm output\n",
        "        word_out = self.dropout(word_out)\n",
        "    elif self.word_mode == 'CNN':\n",
        "        embeds = embeds.permute(1,0,2)\n",
        "        word_out = self.word_cnn(embeds.unsqueeze(0))\n",
        "        word_out = word_out.permute(2, 1, 0, 3)\n",
        "    \n",
        "    ## Reshaping the outputs from the lstm layer\n",
        "    word_out = word_out.view(len(sentence), self.hidden_dim*2)\n",
        "\n",
        "    ## Linear layer converts the ouput vectors to tag space\n",
        "    word_feats = self.hidden2tag(word_out)\n",
        "    \n",
        "    return word_feats"
      ]
    },
    {
      "cell_type": "markdown",
      "metadata": {
        "id": "ZiNzlAtfd8bV"
      },
      "source": [
        "##### Funtion for Negative log likelihood calculation"
      ]
    },
    {
      "cell_type": "markdown",
      "metadata": {
        "id": "kpzBHarWd8bV"
      },
      "source": [
        "This is a helper function that calculates the negative log likelihood. \n",
        "\n",
        "The functions takes as input the previously calulcated lstm features to use to calculate the sentence score and then perform a forward run score and compare it with our predicted score to generate a log likelihood. \n",
        "\n",
        "`Implementation detail: Notice we do not pump out any log conversion in this function that is supposedly about log likelihood calculation, this is because we have ensured that we get the scores from our helper functions in the log domain.`"
      ]
    },
    {
      "cell_type": "code",
      "execution_count": null,
      "metadata": {
        "id": "QtgLl73Gd8bV"
      },
      "outputs": [],
      "source": [
        "def get_neg_log_likelihood(self, sentence, tags, chars2, chars2_length, d):\n",
        "    # sentence, tags is a list of ints\n",
        "    # features is a 2D tensor, len(sentence) * self.tagset_size\n",
        "    feats = self._get_lstm_features(sentence, chars2, chars2_length, d)\n",
        "\n",
        "    if self.use_crf:\n",
        "        forward_score = self._forward_alg(feats)\n",
        "        gold_score = self._score_sentence(feats, tags)\n",
        "        return forward_score - gold_score\n",
        "    else:\n",
        "        tags = Variable(tags)\n",
        "        scores = nn.functional.cross_entropy(feats, tags)\n",
        "        return scores"
      ]
    },
    {
      "cell_type": "markdown",
      "metadata": {
        "id": "JRt05cHAd8bW"
      },
      "source": [
        "##### Main Model Class"
      ]
    },
    {
      "cell_type": "code",
      "execution_count": null,
      "metadata": {
        "id": "uFuTrVSHd8bW"
      },
      "outputs": [],
      "source": [
        "class BiLSTM_CRF(nn.Module):\n",
        "\n",
        "    def __init__(self, vocab_size, tag_to_ix, embedding_dim, hidden_dim,\n",
        "                 char_to_ix=None, pre_word_embeds=None, char_out_dimension=25,char_embedding_dim=25, use_gpu=False\n",
        "                 , use_crf=True, char_mode='CNN', word_mode='CNN', dropout=0, cnn_layers=1):\n",
        "        '''\n",
        "        Input parameters:\n",
        "                \n",
        "                vocab_size= Size of vocabulary (int)\n",
        "                tag_to_ix = Dictionary that maps NER tags to indices\n",
        "                embedding_dim = Dimension of word embeddings (int)\n",
        "                hidden_dim = The hidden dimension of the LSTM layer (int)\n",
        "                char_to_ix = Dictionary that maps characters to indices\n",
        "                pre_word_embeds = Numpy array which provides mapping from word embeddings to word indices\n",
        "                char_out_dimension = Output dimension from the CNN encoder for character\n",
        "                char_embedding_dim = Dimension of the character embeddings\n",
        "                use_gpu = defines availability of GPU, \n",
        "                    when True: CUDA function calls are made\n",
        "                    else: Normal CPU function calls are made\n",
        "                use_crf = parameter which decides if you want to use the CRF layer for output decoding\n",
        "        '''\n",
        "        \n",
        "        super(BiLSTM_CRF, self).__init__()\n",
        "        \n",
        "        #parameter initialization for the model\n",
        "        self.use_gpu = use_gpu\n",
        "        self.embedding_dim = embedding_dim\n",
        "        self.hidden_dim = hidden_dim\n",
        "        self.vocab_size = vocab_size\n",
        "        self.tag_to_ix = tag_to_ix\n",
        "        self.use_crf = use_crf\n",
        "        self.tagset_size = len(tag_to_ix)\n",
        "        self.out_channels = char_out_dimension\n",
        "        self.char_mode = char_mode\n",
        "        self.word_mode = word_mode\n",
        "        self.cnn_layers = cnn_layers\n",
        "        self.char_lstm_dim = hidden_dim\n",
        "\n",
        "        if char_embedding_dim is not None:\n",
        "            self.char_embedding_dim = char_embedding_dim\n",
        "            \n",
        "            #Initializing the character embedding layer\n",
        "            self.char_embeds = nn.Embedding(len(char_to_ix), char_embedding_dim)\n",
        "            init_embedding(self.char_embeds.weight)\n",
        "            \n",
        "            #Performing LSTM encoding on the character embeddings\n",
        "            if self.char_mode == 'LSTM':\n",
        "                self.char_lstm = nn.LSTM(char_embedding_dim, char_lstm_dim, num_layers=1, bidirectional=True)\n",
        "                init_lstm(self.char_lstm)\n",
        "                \n",
        "            #Performing CNN encoding on the character embeddings\n",
        "            if self.char_mode == 'CNN':\n",
        "                self.char_cnn3 = nn.Conv2d(in_channels=1, out_channels=self.out_channels, kernel_size=(3, char_embedding_dim), padding=(2,0))\n",
        "\n",
        "        #Creating Embedding layer with dimension of ( number of words * dimension of each word)\n",
        "        self.word_embeds = nn.Embedding(vocab_size, embedding_dim)\n",
        "        if pre_word_embeds is not None:\n",
        "            #Initializes the word embeddings with pretrained word embeddings\n",
        "            self.pre_word_embeds = True\n",
        "            self.word_embeds.weight = nn.Parameter(torch.FloatTensor(pre_word_embeds))\n",
        "        else:\n",
        "            self.pre_word_embeds = False\n",
        "    \n",
        "        #Initializing the dropout layer, with dropout specificed in parameters\n",
        "        self.dropout = nn.Dropout(parameters['dropout'])\n",
        "        \n",
        "        if char_mode == 'LSTM':\n",
        "          kernel_size=(3, embedding_dim + self.char_lstm_dim * 2)\n",
        "          pad_size=(1,0)\n",
        "        else:\n",
        "          kernel_size=(3, embedding_dim + self.out_channels)\n",
        "          pad_size=(1,0)\n",
        "        if word_mode == 'LSTM':\n",
        "          if self.char_mode == 'LSTM':\n",
        "              self.lstm = nn.LSTM(embedding_dim+char_lstm_dim*2, hidden_dim, bidirectional=True)\n",
        "          if self.char_mode == 'CNN':\n",
        "              self.lstm = nn.LSTM(embedding_dim+self.out_channels, hidden_dim, bidirectional=True)\n",
        "          #Initializing the lstm layer using predefined function for initialization\n",
        "          init_lstm(self.lstm)\n",
        "        elif self.word_mode == 'CNN':\n",
        "            self.word_cnn = nn.Sequential(\n",
        "                      nn.Conv2d(in_channels=1, out_channels=hidden_dim * 2, \n",
        "                                kernel_size=kernel_size, padding=pad_size),\n",
        "                      nn.ReLU(inplace=True)\n",
        "            )\n",
        "            seq_ctr = 2\n",
        "            kernel_size = (3, 1)\n",
        "            for idx in range(self.cnn_layers-1):\n",
        "                self.word_cnn.add_module(str(seq_ctr), nn.Conv2d(in_channels=hidden_dim * 2, \n",
        "                              out_channels=hidden_dim * 2, \n",
        "                              kernel_size=kernel_size, padding=pad_size))\n",
        "                self.word_cnn.add_module(str(seq_ctr+1), nn.ReLU(inplace=True))\n",
        "                seq_ctr = seq_ctr + 2\n",
        "\n",
        "        #Initializing the lstm layer using predefined function for initialization\n",
        "        # init_lstm(self.lstm)\n",
        "        \n",
        "        # Linear layer which maps the output of the bidirectional LSTM into tag space.\n",
        "        self.hidden2tag = nn.Linear(hidden_dim*2, self.tagset_size)\n",
        "        \n",
        "        #Initializing the linear layer using predefined function for initialization\n",
        "        init_linear(self.hidden2tag) \n",
        "\n",
        "        if self.use_crf:\n",
        "            # Matrix of transition parameters.  Entry i,j is the score of transitioning *to* i *from* j.\n",
        "            # Matrix has a dimension of (total number of tags * total number of tags)\n",
        "            self.transitions = nn.Parameter(\n",
        "                torch.zeros(self.tagset_size, self.tagset_size))\n",
        "            \n",
        "            # These two statements enforce the constraint that we never transfer\n",
        "            # to the start tag and we never transfer from the stop tag\n",
        "            self.transitions.data[tag_to_ix[START_TAG], :] = -10000\n",
        "            self.transitions.data[:, tag_to_ix[STOP_TAG]] = -10000\n",
        "\n",
        "    #assigning the functions, which we have defined earlier\n",
        "    _score_sentence = score_sentences\n",
        "    _get_lstm_features = get_lstm_features\n",
        "    _forward_alg = forward_alg\n",
        "    viterbi_decode = viterbi_algo\n",
        "    neg_log_likelihood = get_neg_log_likelihood\n",
        "    forward = forward_calc"
      ]
    },
    {
      "cell_type": "code",
      "execution_count": null,
      "metadata": {
        "colab": {
          "base_uri": "https://localhost:8080/"
        },
        "id": "TAjSMC6Zd8bX",
        "outputId": "ecddc730-af0c-49b6-8238-b70008d1369b"
      },
      "outputs": [
        {
          "name": "stdout",
          "output_type": "stream",
          "text": [
            "Model Initialized!!!\n"
          ]
        },
        {
          "name": "stderr",
          "output_type": "stream",
          "text": [
            "/usr/local/lib/python3.7/dist-packages/ipykernel_launcher.py:6: UserWarning: nn.init.uniform is now deprecated in favor of nn.init.uniform_.\n",
            "  \n"
          ]
        }
      ],
      "source": [
        "#creating the model using the Class defined above\n",
        "model = BiLSTM_CRF(vocab_size=len(word_to_id),\n",
        "                   tag_to_ix=tag_to_id,\n",
        "                   embedding_dim=parameters['word_dim'],\n",
        "                   hidden_dim=parameters['word_lstm_dim'],\n",
        "                   use_gpu=use_gpu,\n",
        "                   char_to_ix=char_to_id,\n",
        "                   pre_word_embeds=word_embeds,\n",
        "                   use_crf=parameters['crf'],\n",
        "                   char_mode=parameters['char_mode'],\n",
        "                   word_mode=parameters['word_mode'],\n",
        "                   dropout=parameters['dropout'],\n",
        "                   cnn_layers=parameters['cnn_layers'])\n",
        "\n",
        "print(\"Model Initialized!!!\")\n",
        "#creating the model using the Class defined above\n",
        "#Trying out CNN encoder instead"
      ]
    },
    {
      "cell_type": "code",
      "execution_count": null,
      "metadata": {
        "colab": {
          "base_uri": "https://localhost:8080/"
        },
        "id": "P9VHL6ecd8bX",
        "outputId": "4dbd10ad-2894-4338-cda2-d87e538c3fe7"
      },
      "outputs": [
        {
          "name": "stdout",
          "output_type": "stream",
          "text": [
            "BiLSTM_CRF(\n",
            "  (char_embeds): Embedding(75, 25)\n",
            "  (char_cnn3): Conv2d(1, 25, kernel_size=(3, 25), stride=(1, 1), padding=(2, 0))\n",
            "  (word_embeds): Embedding(17493, 100)\n",
            "  (dropout): Dropout(p=0.5, inplace=False)\n",
            "  (word_cnn): Sequential(\n",
            "    (0): Conv2d(1, 400, kernel_size=(3, 125), stride=(1, 1), padding=(1, 0))\n",
            "    (1): ReLU(inplace=True)\n",
            "    (2): Conv2d(400, 400, kernel_size=(3, 1), stride=(1, 1), padding=(1, 0))\n",
            "    (3): ReLU(inplace=True)\n",
            "    (4): Conv2d(400, 400, kernel_size=(3, 1), stride=(1, 1), padding=(1, 0))\n",
            "    (5): ReLU(inplace=True)\n",
            "    (6): Conv2d(400, 400, kernel_size=(3, 1), stride=(1, 1), padding=(1, 0))\n",
            "    (7): ReLU(inplace=True)\n",
            "    (8): Conv2d(400, 400, kernel_size=(3, 1), stride=(1, 1), padding=(1, 0))\n",
            "    (9): ReLU(inplace=True)\n",
            "    (10): Conv2d(400, 400, kernel_size=(3, 1), stride=(1, 1), padding=(1, 0))\n",
            "    (11): ReLU(inplace=True)\n",
            "  )\n",
            "  (hidden2tag): Linear(in_features=400, out_features=19, bias=True)\n",
            ")\n"
          ]
        }
      ],
      "source": [
        "print(model)"
      ]
    },
    {
      "cell_type": "code",
      "execution_count": null,
      "metadata": {
        "colab": {
          "base_uri": "https://localhost:8080/"
        },
        "id": "9o5l7B54d8bY",
        "outputId": "07c3e656-14af-4e14-bc2a-63587444525b"
      },
      "outputs": [
        {
          "name": "stdout",
          "output_type": "stream",
          "text": [
            "downloading pre-trained model\n",
            "no model\n"
          ]
        }
      ],
      "source": [
        "#Reload a saved model, if parameter[\"reload\"] is set to a path\n",
        "try:\n",
        "    if parameters['reload']:\n",
        "        if not os.path.exists(parameters['reload']):\n",
        "            print(\"downloading pre-trained model\")\n",
        "            model_url=\"https://github.com/TheAnig/NER-LSTM-CNN-Pytorch/raw/master/trained-model-cpu\"\n",
        "            urllib.request.urlretrieve(model_url, parameters['reload'])\n",
        "        model.load_state_dict(torch.load(parameters['reload']))\n",
        "        print(\"model reloaded :\", parameters['reload'])\n",
        "    else: \n",
        "      print(\"Else\")\n",
        "      raise exception\n",
        "except:\n",
        "    print(\"no model\")\n",
        "\n",
        "if use_gpu:\n",
        "    model.cuda()"
      ]
    },
    {
      "cell_type": "markdown",
      "metadata": {
        "id": "zFCBJ0vyd8bY"
      },
      "source": [
        "##### Training Paramaters"
      ]
    },
    {
      "cell_type": "code",
      "execution_count": null,
      "metadata": {
        "id": "XBLnV542d8bY"
      },
      "outputs": [],
      "source": [
        "#Initializing the optimizer\n",
        "#The best results in the paper where achived using stochastic gradient descent (SGD) \n",
        "#learning rate=0.015 and momentum=0.9 \n",
        "#decay_rate=0.05 \n",
        "\n",
        "learning_rate = 0.015\n",
        "momentum = 0.9\n",
        "number_of_epochs = parameters['epoch'] \n",
        "decay_rate = 0.05\n",
        "gradient_clip = parameters['gradient_clip']\n",
        "optimizer = torch.optim.SGD(model.parameters(), lr=learning_rate, momentum=momentum)\n",
        "\n",
        "#variables which will used in training process\n",
        "losses = [] #list to store all losses\n",
        "loss = 0.0 #Loss Initializatoin\n",
        "best_dev_F = -1.0 # Current best F-1 Score on Dev Set\n",
        "best_test_F = -1.0 # Current best F-1 Score on Test Set\n",
        "best_train_F = -1.0 # Current best F-1 Score on Train Set\n",
        "all_F = [[0, 0, 0]] # List storing all the F-1 Scores\n",
        "eval_every = len(train_data) # Calculate F-1 Score after this many iterations\n",
        "plot_every = 2000 # Store loss after this many iterations\n",
        "count = 0 #Counts the number of iterations"
      ]
    },
    {
      "cell_type": "markdown",
      "metadata": {
        "id": "erVdWwdJd8bZ"
      },
      "source": [
        "### Evaluation"
      ]
    },
    {
      "cell_type": "markdown",
      "metadata": {
        "id": "mFcQmFkad8bZ"
      },
      "source": [
        "##### Helper functions for evaluation"
      ]
    },
    {
      "cell_type": "code",
      "execution_count": null,
      "metadata": {
        "id": "Svu4phDpd8bZ"
      },
      "outputs": [],
      "source": [
        "def get_chunk_type(tok, idx_to_tag):\n",
        "    \"\"\"\n",
        "    The function takes in a chunk (\"B-PER\") and then splits it into the tag (PER) and its class (B)\n",
        "    as defined in BIOES\n",
        "    \n",
        "    Args:\n",
        "        tok: id of token, ex 4\n",
        "        idx_to_tag: dictionary {4: \"B-PER\", ...}\n",
        "\n",
        "    Returns:\n",
        "        tuple: \"B\", \"PER\"\n",
        "\n",
        "    \"\"\"\n",
        "    \n",
        "    tag_name = idx_to_tag[tok]\n",
        "    tag_class = tag_name.split('-')[0]\n",
        "    tag_type = tag_name.split('-')[-1]\n",
        "    return tag_class, tag_type"
      ]
    },
    {
      "cell_type": "code",
      "execution_count": null,
      "metadata": {
        "id": "Lk97ySm_d8bZ"
      },
      "outputs": [],
      "source": [
        "def get_chunks(seq, tags):\n",
        "    \"\"\"Given a sequence of tags, group entities and their position\n",
        "\n",
        "    Args:\n",
        "        seq: [4, 4, 0, 0, ...] sequence of labels\n",
        "        tags: dict[\"O\"] = 4\n",
        "\n",
        "    Returns:\n",
        "        list of (chunk_type, chunk_start, chunk_end)\n",
        "\n",
        "    Example:\n",
        "        seq = [4, 5, 0, 3]\n",
        "        tags = {\"B-PER\": 4, \"I-PER\": 5, \"B-LOC\": 3}\n",
        "        result = [(\"PER\", 0, 2), (\"LOC\", 3, 4)]\n",
        "\n",
        "    \"\"\"\n",
        "    \n",
        "    # We assume by default the tags lie outside a named entity\n",
        "    default = tags[\"O\"]\n",
        "    \n",
        "    idx_to_tag = {idx: tag for tag, idx in tags.items()}\n",
        "    \n",
        "    chunks = []\n",
        "    \n",
        "    chunk_type, chunk_start = None, None\n",
        "    for i, tok in enumerate(seq):\n",
        "        # End of a chunk 1\n",
        "        if tok == default and chunk_type is not None:\n",
        "            # Add a chunk.\n",
        "            chunk = (chunk_type, chunk_start, i)\n",
        "            chunks.append(chunk)\n",
        "            chunk_type, chunk_start = None, None\n",
        "\n",
        "        # End of a chunk + start of a chunk!\n",
        "        elif tok != default:\n",
        "            tok_chunk_class, tok_chunk_type = get_chunk_type(tok, idx_to_tag)\n",
        "            if chunk_type is None:\n",
        "                # Initialize chunk for each entity\n",
        "                chunk_type, chunk_start = tok_chunk_type, i\n",
        "            elif tok_chunk_type != chunk_type or tok_chunk_class == \"B\":\n",
        "                # If chunk class is B, i.e., its a beginning of a new named entity\n",
        "                # or, if the chunk type is different from the previous one, then we\n",
        "                # start labelling it as a new entity\n",
        "                chunk = (chunk_type, chunk_start, i)\n",
        "                chunks.append(chunk)\n",
        "                chunk_type, chunk_start = tok_chunk_type, i\n",
        "        else:\n",
        "            pass\n",
        "\n",
        "    # end condition\n",
        "    if chunk_type is not None:\n",
        "        chunk = (chunk_type, chunk_start, len(seq))\n",
        "        chunks.append(chunk)\n",
        "\n",
        "    return chunks"
      ]
    },
    {
      "cell_type": "code",
      "execution_count": null,
      "metadata": {
        "id": "vU4xNzGpd8ba"
      },
      "outputs": [],
      "source": [
        "# def evaluating(model, datas, best_F,dataset=\"Train\"):\n",
        "#     '''\n",
        "#     The function takes as input the model, data and calcuates F-1 Score\n",
        "#     It performs conditional updates \n",
        "#      1) Flag to save the model \n",
        "#      2) Best F-1 score\n",
        "#     ,if the F-1 score calculated improves on the previous F-1 score\n",
        "#     '''\n",
        "#     # Initializations\n",
        "#     prediction = [] # A list that stores predicted tags\n",
        "#     save = False # Flag that tells us if the model needs to be saved\n",
        "#     new_F = 0.0 # Variable to store the current F1-Score (may not be the best)\n",
        "#     correct_preds, total_correct, total_preds = 0., 0., 0. # Count variables\n",
        "    \n",
        "#     for data in datas:\n",
        "#         ground_truth_id = data['tags']\n",
        "#         words = data['str_words']\n",
        "#         chars2 = data['chars']\n",
        "        \n",
        "#         if parameters['char_mode'] == 'LSTM':\n",
        "#             chars2_sorted = sorted(chars2, key=lambda p: len(p), reverse=True)\n",
        "#             d = {}\n",
        "#             for i, ci in enumerate(chars2):\n",
        "#                 for j, cj in enumerate(chars2_sorted):\n",
        "#                     if ci == cj and not j in d and not i in d.values():\n",
        "#                         d[j] = i\n",
        "#                         continue\n",
        "#             chars2_length = [len(c) for c in chars2_sorted]\n",
        "#             char_maxl = max(chars2_length)\n",
        "#             chars2_mask = np.zeros((len(chars2_sorted), char_maxl), dtype='int')\n",
        "#             for i, c in enumerate(chars2_sorted):\n",
        "#                 chars2_mask[i, :chars2_length[i]] = c\n",
        "#             chars2_mask = Variable(torch.LongTensor(chars2_mask))\n",
        "        \n",
        "        \n",
        "#         if parameters['char_mode'] == 'CNN':\n",
        "#             d = {} \n",
        "\n",
        "#             # Padding the each word to max word size of that sentence\n",
        "#             chars2_length = [len(c) for c in chars2]\n",
        "#             char_maxl = max(chars2_length)\n",
        "#             chars2_mask = np.zeros((len(chars2_length), char_maxl), dtype='int')\n",
        "#             for i, c in enumerate(chars2):\n",
        "#                 chars2_mask[i, :chars2_length[i]] = c\n",
        "#             chars2_mask = Variable(torch.LongTensor(chars2_mask))\n",
        "\n",
        "#         dwords = Variable(torch.LongTensor(data['words']))\n",
        "        \n",
        "#         # We are getting the predicted output from our model\n",
        "#         if use_gpu:\n",
        "#             val,out = model(dwords.cuda(), chars2_mask.cuda(), chars2_length, d)\n",
        "#         else:\n",
        "#             val,out = model(dwords, chars2_mask, chars2_length, d)\n",
        "#         predicted_id = out\n",
        "    \n",
        "        \n",
        "#         # We use the get chunks function defined above to get the true chunks\n",
        "#         # and the predicted chunks from true labels and predicted labels respectively\n",
        "#         lab_chunks      = set(get_chunks(ground_truth_id,tag_to_id))\n",
        "#         lab_pred_chunks = set(get_chunks(predicted_id,\n",
        "#                                          tag_to_id))\n",
        "\n",
        "#         # Updating the count variables\n",
        "#         correct_preds += len(lab_chunks & lab_pred_chunks)\n",
        "#         total_preds   += len(lab_pred_chunks)\n",
        "#         total_correct += len(lab_chunks)\n",
        "    \n",
        "#     # Calculating the F1-Score\n",
        "#     p   = correct_preds / total_preds if correct_preds > 0 else 0\n",
        "#     r   = correct_preds / total_correct if correct_preds > 0 else 0\n",
        "#     new_F  = 2 * p * r / (p + r) if correct_preds > 0 else 0\n",
        "\n",
        "#     print(\"{}: new_F: {} best_F: {} \".format(dataset,new_F,best_F))\n",
        "    \n",
        "#     # If our current F1-Score is better than the previous best, we update the best\n",
        "#     # to current F1 and we set the flag to indicate that we need to checkpoint this model\n",
        "    \n",
        "#     if new_F>best_F:\n",
        "#         best_F=new_F\n",
        "#         save=True\n",
        "\n",
        "#     return best_F, new_F, save\n",
        "\n",
        "def evaluating(model, datas, best_F,dataset=\"Train\"):\n",
        "    '''\n",
        "    The function takes as input the model, data and calcuates F-1 Score\n",
        "    It performs conditional updates \n",
        "     1) Flag to save the model \n",
        "     2) Best F-1 score\n",
        "    ,if the F-1 score calculated improves on the previous F-1 score\n",
        "    '''\n",
        "    # Initializations\n",
        "    prediction = [] # A list that stores predicted tags\n",
        "    save = False # Flag that tells us if the model needs to be saved\n",
        "    new_F = 0.0 # Variable to store the current F1-Score (may not be the best)\n",
        "    correct_preds, total_correct, total_preds = 0., 0., 0. # Count variables\n",
        "    \n",
        "    for data in datas:\n",
        "        ground_truth_id = data['tags']\n",
        "        words = data['str_words']\n",
        "        chars2 = data['chars']\n",
        "        \n",
        "        if parameters['char_mode'] == 'LSTM':\n",
        "            chars2_sorted = sorted(chars2, key=lambda p: len(p), reverse=True)\n",
        "            d = {}\n",
        "            for i, ci in enumerate(chars2):\n",
        "                for j, cj in enumerate(chars2_sorted):\n",
        "                    if ci == cj and not j in d and not i in d.values():\n",
        "                        d[j] = i\n",
        "                        continue\n",
        "            chars2_length = [len(c) for c in chars2_sorted]\n",
        "            char_maxl = max(chars2_length)\n",
        "            chars2_mask = np.zeros((len(chars2_sorted), char_maxl), dtype='int')\n",
        "            for i, c in enumerate(chars2_sorted):\n",
        "                chars2_mask[i, :chars2_length[i]] = c\n",
        "            chars2_mask = Variable(torch.LongTensor(chars2_mask))\n",
        "        \n",
        "        \n",
        "        if parameters['char_mode'] == 'CNN':\n",
        "            d = {} \n",
        "\n",
        "            # Padding the each word to max word size of that sentence\n",
        "            chars2_length = [len(c) for c in chars2]\n",
        "            char_maxl = max(chars2_length)\n",
        "            chars2_mask = np.zeros((len(chars2_length), char_maxl), dtype='int')\n",
        "            for i, c in enumerate(chars2):\n",
        "                chars2_mask[i, :chars2_length[i]] = c\n",
        "            chars2_mask = Variable(torch.LongTensor(chars2_mask))\n",
        "\n",
        "        dwords = Variable(torch.LongTensor(data['words']))\n",
        "        \n",
        "        # We are getting the predicted output from our model\n",
        "        if use_gpu:\n",
        "            val,out = model(dwords.cuda(), chars2_mask.cuda(), chars2_length, d)\n",
        "        else:\n",
        "            val,out = model(dwords, chars2_mask, chars2_length, d)\n",
        "        predicted_id = out\n",
        "    \n",
        "        \n",
        "        # We use the get chunks function defined above to get the true chunks\n",
        "        # and the predicted chunks from true labels and predicted labels respectively\n",
        "        lab_chunks      = set(get_chunks(ground_truth_id,tag_to_id))\n",
        "        lab_pred_chunks = set(get_chunks(predicted_id,\n",
        "                                         tag_to_id))\n",
        "\n",
        "        # Updating the count variables\n",
        "        correct_preds += len(lab_chunks & lab_pred_chunks)\n",
        "        total_preds   += len(lab_pred_chunks)\n",
        "        total_correct += len(lab_chunks)\n",
        "    \n",
        "    # Calculating the F1-Score\n",
        "    p   = correct_preds / total_preds if correct_preds > 0 else 0\n",
        "    r   = correct_preds / total_correct if correct_preds > 0 else 0\n",
        "    new_F  = 2 * p * r / (p + r) if correct_preds > 0 else 0\n",
        "\n",
        "    print(\"{}: new_F: {} best_F: {} \".format(dataset,new_F,best_F))\n",
        "\n",
        "    # If our current F1-Score is better than the previous best, we update the best\n",
        "    # to current F1 and we set the flag to indicate that we need to checkpoint this model\n",
        "    \n",
        "    if new_F>best_F:\n",
        "        best_F=new_F\n",
        "        save=True\n",
        "      \n",
        "    stats_data = pd.read_csv(\"/content/drive/MyDrive/NLP-assignment2/stats/\"+str(parameters['cnn_layers'])+str(dataset)+\".csv\")\n",
        "    stats_data.loc[len(stats_data)] = [correct_preds,total_preds,total_correct,new_F,best_F]\n",
        "    stats_data.to_csv(\"/content/drive/MyDrive/NLP-assignment2/stats/\"+str(parameters['cnn_layers'])+str(dataset)+\".csv\",index=False)\n",
        "\n",
        "    return best_F, new_F, save"
      ]
    },
    {
      "cell_type": "markdown",
      "metadata": {
        "id": "eVJa-obid8ba"
      },
      "source": [
        "##### Helper function for performing Learning rate decay"
      ]
    },
    {
      "cell_type": "code",
      "execution_count": null,
      "metadata": {
        "id": "H9wCEQwmd8ba"
      },
      "outputs": [],
      "source": [
        "def adjust_learning_rate(optimizer, lr):\n",
        "    \"\"\"\n",
        "    shrink learning rate\n",
        "    \"\"\"\n",
        "    for param_group in optimizer.param_groups:\n",
        "        param_group['lr'] = lr"
      ]
    },
    {
      "cell_type": "markdown",
      "metadata": {
        "id": "5zFVDpnYd8ba"
      },
      "source": [
        "### Training Step"
      ]
    },
    {
      "cell_type": "markdown",
      "metadata": {
        "id": "dVvufK6Rd8bb"
      },
      "source": [
        "If `parameters['reload']` is set, we already have a model to load of off, so we can skip the training. We have originally specified a pre-trained model since training is an expensive process, but we encourage readers to try this out once they're done with the tutorial."
      ]
    },
    {
      "cell_type": "code",
      "execution_count": null,
      "metadata": {
        "colab": {
          "base_uri": "https://localhost:8080/",
          "height": 1000
        },
        "id": "bBbJLuMmd8bb",
        "outputId": "54e1dfbe-a2fe-4d18-e273-9d3bf709d92c"
      },
      "outputs": [
        {
          "name": "stderr",
          "output_type": "stream",
          "text": [
            "/usr/local/lib/python3.7/dist-packages/torch/nn/functional.py:718: UserWarning: Named tensors and all their associated APIs are an experimental feature and subject to change. Please do not use them for anything important until they are released as stable. (Triggered internally at  /pytorch/c10/core/TensorImpl.h:1156.)\n",
            "  return torch.max_pool2d(input, kernel_size, stride, padding, dilation, ceil_mode)\n",
            "/usr/local/lib/python3.7/dist-packages/ipykernel_launcher.py:162: UserWarning: torch.nn.utils.clip_grad_norm is now deprecated in favor of torch.nn.utils.clip_grad_norm_.\n"
          ]
        },
        {
          "name": "stdout",
          "output_type": "stream",
          "text": [
            "2000 :  0.3996953189827264\n",
            "4000 :  0.22520991175880073\n",
            "6000 :  0.15994854648959073\n",
            "8000 :  0.15545052975552412\n",
            "10000 :  0.11211994442395233\n",
            "12000 :  0.10228450256334656\n",
            "14000 :  0.1088416986826147\n",
            "Train: new_F: 0.9295116408695279 best_F: -1.0 \n",
            "Dev: new_F: 0.8641078838174273 best_F: -1.0 \n",
            "Saving Model to  /content/drive/MyDrive/NLP-assignment2/models/2021-11-03-CNN-CNN-6-Conv2d-CRF-MODEL\n",
            "Test: new_F: 0.8312998807448858 best_F: -1.0 \n",
            "16000 :  0.0813954652776073\n",
            "18000 :  0.09789646499606319\n",
            "20000 :  0.08958656355284847\n",
            "22000 :  0.09016813520478281\n",
            "24000 :  0.0796215599943662\n",
            "26000 :  0.08101670961273572\n",
            "28000 :  0.06933007344891302\n",
            "Train: new_F: 0.9581461034792657 best_F: 0.9295116408695279 \n",
            "Dev: new_F: 0.8834188034188033 best_F: 0.8641078838174273 \n",
            "Saving Model to  /content/drive/MyDrive/NLP-assignment2/models/2021-11-03-CNN-CNN-6-Conv2d-CRF-MODEL\n",
            "Test: new_F: 0.8331972789115647 best_F: 0.8312998807448858 \n",
            "30000 :  0.07039070913713436\n",
            "32000 :  0.07589370364283388\n",
            "34000 :  0.07469822800761629\n",
            "36000 :  0.05950065738842367\n",
            "38000 :  0.06706341809923419\n",
            "40000 :  0.0713576449001351\n",
            "42000 :  0.07209527058207613\n",
            "Train: new_F: 0.9641459816560837 best_F: 0.9581461034792657 \n",
            "Dev: new_F: 0.8924465639104147 best_F: 0.8834188034188033 \n",
            "Saving Model to  /content/drive/MyDrive/NLP-assignment2/models/2021-11-03-CNN-CNN-6-Conv2d-CRF-MODEL\n",
            "Test: new_F: 0.8492680281944696 best_F: 0.8331972789115647 \n",
            "44000 :  0.06822179349915622\n",
            "46000 :  0.05127713903138391\n",
            "48000 :  0.05757919960744155\n",
            "50000 :  0.057017581004988126\n",
            "52000 :  0.059107022239032976\n",
            "54000 :  0.052315125463781455\n",
            "56000 :  0.051858664128225235\n",
            "Train: new_F: 0.9631585727167331 best_F: 0.9641459816560837 \n",
            "Dev: new_F: 0.8867432150313151 best_F: 0.8924465639104147 \n",
            "Test: new_F: 0.8335491030146107 best_F: 0.8492680281944696 \n",
            "58000 :  0.05075597659406973\n",
            "60000 :  0.05369991731621043\n",
            "62000 :  0.05473474190825914\n",
            "64000 :  0.05255201803702324\n",
            "66000 :  0.05612602468158688\n",
            "68000 :  0.0515108683073482\n",
            "70000 :  0.06510077683865545\n",
            "Train: new_F: 0.9745090916860751 best_F: 0.9641459816560837 \n",
            "Dev: new_F: 0.8878400411911095 best_F: 0.8924465639104147 \n",
            "Test: new_F: 0.8406428766003814 best_F: 0.8492680281944696 \n",
            "72000 :  0.045931116927627615\n",
            "74000 :  0.05031775668481337\n",
            "76000 :  0.0426681999671801\n",
            "78000 :  0.033713448583375334\n",
            "80000 :  0.03759136375953575\n",
            "82000 :  0.04437078500366838\n",
            "84000 :  0.04459125304626097\n",
            "Train: new_F: 0.9785634981638055 best_F: 0.9745090916860751 \n",
            "Dev: new_F: 0.887297527706735 best_F: 0.8924465639104147 \n",
            "Test: new_F: 0.8302430243024302 best_F: 0.8492680281944696 \n",
            "86000 :  0.04066231735463378\n",
            "88000 :  0.031787761236336136\n",
            "90000 :  0.03674680632131983\n",
            "92000 :  0.03585264845671423\n",
            "94000 :  0.03938521924063705\n",
            "96000 :  0.03269608126434062\n",
            "98000 :  0.0464858909178101\n",
            "Train: new_F: 0.9802724283701268 best_F: 0.9785634981638055 \n",
            "Dev: new_F: 0.8962134251290877 best_F: 0.8924465639104147 \n",
            "Saving Model to  /content/drive/MyDrive/NLP-assignment2/models/2021-11-03-CNN-CNN-6-Conv2d-CRF-MODEL\n",
            "Test: new_F: 0.8466369345590244 best_F: 0.8492680281944696 \n",
            "100000 :  0.028912056969140884\n",
            "102000 :  0.025669336271944704\n",
            "104000 :  0.036995850081999924\n",
            "106000 :  0.04219173007395454\n",
            "108000 :  0.03646719989165403\n",
            "110000 :  0.03465441000323071\n",
            "112000 :  0.02895848167278978\n",
            "Train: new_F: 0.9823369855406762 best_F: 0.9802724283701268 \n",
            "Dev: new_F: 0.9006825938566554 best_F: 0.8962134251290877 \n",
            "Saving Model to  /content/drive/MyDrive/NLP-assignment2/models/2021-11-03-CNN-CNN-6-Conv2d-CRF-MODEL\n",
            "Test: new_F: 0.8444805487859915 best_F: 0.8492680281944696 \n",
            "114000 :  0.026492064265855462\n",
            "116000 :  0.0353532475412349\n",
            "118000 :  0.03256133534144662\n",
            "120000 :  0.02585457290460893\n",
            "122000 :  0.03685522838393906\n",
            "124000 :  0.033086695391474547\n",
            "126000 :  0.03220013555901459\n",
            "Train: new_F: 0.985626107943017 best_F: 0.9823369855406762 \n",
            "Dev: new_F: 0.8964270340077486 best_F: 0.9006825938566554 \n",
            "Test: new_F: 0.8407887529669528 best_F: 0.8492680281944696 \n",
            "128000 :  0.02453471867801359\n",
            "130000 :  0.029767157231922355\n",
            "132000 :  0.028814934566872386\n",
            "134000 :  0.02919139626951799\n",
            "136000 :  0.02324515748177509\n",
            "138000 :  0.028406844342883965\n",
            "140000 :  0.02513993159950621\n",
            "Train: new_F: 0.9877022930099492 best_F: 0.985626107943017 \n",
            "Dev: new_F: 0.9084374465172002 best_F: 0.9006825938566554 \n",
            "Saving Model to  /content/drive/MyDrive/NLP-assignment2/models/2021-11-03-CNN-CNN-6-Conv2d-CRF-MODEL\n",
            "Test: new_F: 0.85716880050849 best_F: 0.8492680281944696 \n",
            "142000 :  0.02336918263307908\n",
            "144000 :  0.022967028773051706\n",
            "146000 :  0.02358599857504097\n",
            "148000 :  0.022103645573166082\n",
            "150000 :  0.023841214679047273\n",
            "152000 :  0.027864058116057324\n",
            "154000 :  0.027129674009201552\n",
            "Train: new_F: 0.9876906666666667 best_F: 0.9877022930099492 \n",
            "Dev: new_F: 0.9018703561363054 best_F: 0.9084374465172002 \n",
            "Test: new_F: 0.8444685859134529 best_F: 0.85716880050849 \n",
            "156000 :  0.028132440395421975\n",
            "158000 :  0.016932241720317258\n",
            "160000 :  0.025015639091084327\n",
            "162000 :  0.021577448060117653\n",
            "164000 :  0.0221744458515433\n",
            "166000 :  0.02139167233529314\n",
            "168000 :  0.018102194035268537\n",
            "Train: new_F: 0.9895891112343731 best_F: 0.9877022930099492 \n",
            "Dev: new_F: 0.9136702849389416 best_F: 0.9084374465172002 \n",
            "Saving Model to  /content/drive/MyDrive/NLP-assignment2/models/2021-11-03-CNN-CNN-6-Conv2d-CRF-MODEL\n",
            "Test: new_F: 0.8560150713196375 best_F: 0.85716880050849 \n",
            "170000 :  0.018634430049137316\n",
            "172000 :  0.02158414945885782\n",
            "174000 :  0.02205865024246038\n",
            "176000 :  0.019127602276672834\n",
            "178000 :  0.01872139034210684\n",
            "180000 :  0.02128072672895889\n",
            "182000 :  0.022024046161346462\n",
            "Train: new_F: 0.9894593095207612 best_F: 0.9895891112343731 \n",
            "Dev: new_F: 0.902229845626072 best_F: 0.9136702849389416 \n",
            "Test: new_F: 0.8441487422530075 best_F: 0.85716880050849 \n",
            "184000 :  0.014598252101156473\n",
            "186000 :  0.016447765617832004\n",
            "188000 :  0.02058511290409204\n",
            "190000 :  0.02194743472342662\n",
            "192000 :  0.021013471608673315\n",
            "194000 :  0.025286366512613696\n",
            "196000 :  0.02160561135166268\n",
            "Train: new_F: 0.9909748447801319 best_F: 0.9895891112343731 \n",
            "Dev: new_F: 0.8990294568363698 best_F: 0.9136702849389416 \n",
            "Test: new_F: 0.846529284164859 best_F: 0.85716880050849 \n",
            "198000 :  0.018190059571423466\n",
            "200000 :  0.013492354688175027\n",
            "202000 :  0.02074627838531461\n",
            "204000 :  0.015815544986150367\n",
            "206000 :  0.015832332223304355\n",
            "208000 :  0.014609238593698141\n",
            "210000 :  0.01752343959516639\n",
            "Train: new_F: 0.9914919930912425 best_F: 0.9909748447801319 \n",
            "Dev: new_F: 0.895985092325936 best_F: 0.9136702849389416 \n",
            "Test: new_F: 0.843341100555655 best_F: 0.85716880050849 \n",
            "212000 :  0.01564352767796093\n",
            "214000 :  0.015676938904771297\n",
            "216000 :  0.015248622633869646\n",
            "218000 :  0.016168363172847953\n",
            "220000 :  0.014321096597362512\n",
            "222000 :  0.01575464359265425\n",
            "224000 :  0.01554484153638102\n",
            "Train: new_F: 0.9913829877996758 best_F: 0.9914919930912425 \n",
            "Dev: new_F: 0.8959877331970355 best_F: 0.9136702849389416 \n",
            "Test: new_F: 0.8485883833842834 best_F: 0.85716880050849 \n",
            "226000 :  0.018175255741896417\n",
            "228000 :  0.011734599685320049\n",
            "230000 :  0.012942812405029421\n",
            "232000 :  0.01671633546047812\n",
            "234000 :  0.012948528831008521\n",
            "236000 :  0.01064910752195849\n",
            "238000 :  0.01629861711544053\n",
            "Train: new_F: 0.9919139766593416 best_F: 0.9914919930912425 \n",
            "Dev: new_F: 0.9093709884467266 best_F: 0.9136702849389416 \n",
            "Test: new_F: 0.8588768115942029 best_F: 0.85716880050849 \n",
            "240000 :  0.020808353250007842\n",
            "242000 :  0.016465604699676385\n",
            "244000 :  0.017881412497861668\n",
            "246000 :  0.011708043710728672\n",
            "248000 :  0.014822761899780391\n",
            "250000 :  0.01520087260821297\n",
            "252000 :  0.017840330376282618\n",
            "Train: new_F: 0.993154044658662 best_F: 0.9919139766593416 \n",
            "Dev: new_F: 0.9085651101471464 best_F: 0.9136702849389416 \n",
            "Test: new_F: 0.8557501354035025 best_F: 0.8588768115942029 \n",
            "254000 :  0.007472818642920808\n",
            "256000 :  0.014478442342608915\n",
            "258000 :  0.012716258718324254\n",
            "260000 :  0.01099513787391394\n",
            "262000 :  0.01276881108709514\n",
            "264000 :  0.014775217678263824\n",
            "266000 :  0.013000664905744376\n",
            "Train: new_F: 0.9924462273813589 best_F: 0.993154044658662 \n",
            "Dev: new_F: 0.912298644847865 best_F: 0.9136702849389416 \n",
            "Test: new_F: 0.8650936599423631 best_F: 0.8588768115942029 \n",
            "268000 :  0.010703610712740058\n",
            "270000 :  0.011217023940549905\n",
            "272000 :  0.014002796970975843\n",
            "274000 :  0.011140678701481978\n",
            "276000 :  0.013069567341182354\n",
            "278000 :  0.010666827785486062\n",
            "280000 :  0.009234363001620352\n",
            "Train: new_F: 0.9951371411508766 best_F: 0.993154044658662 \n",
            "Dev: new_F: 0.9179936983734992 best_F: 0.9136702849389416 \n",
            "Saving Model to  /content/drive/MyDrive/NLP-assignment2/models/2021-11-03-CNN-CNN-6-Conv2d-CRF-MODEL\n",
            "Test: new_F: 0.8722116860832656 best_F: 0.8650936599423631 \n",
            "282000 :  0.012652523663056121\n",
            "284000 :  0.010074261132826506\n",
            "286000 :  0.017900420835447912\n",
            "288000 :  0.008570923900133398\n",
            "290000 :  0.011806148449162867\n",
            "292000 :  0.01217438404259067\n",
            "294000 :  0.010682548546431995\n",
            "Train: new_F: 0.9954994347631337 best_F: 0.9951371411508766 \n",
            "Dev: new_F: 0.9086277173913044 best_F: 0.9179936983734992 \n",
            "Test: new_F: 0.864772522927531 best_F: 0.8722116860832656 \n",
            "296000 :  0.011784199626657069\n",
            "298000 :  0.010956474590960866\n",
            "300000 :  0.008657168565452034\n",
            "302000 :  0.009294137090015682\n",
            "304000 :  0.015420509816856899\n",
            "306000 :  0.0095928770688972\n",
            "308000 :  0.011690522786382534\n",
            "Train: new_F: 0.9958837204342355 best_F: 0.9954994347631337 \n",
            "Dev: new_F: 0.9095585083583368 best_F: 0.9179936983734992 \n",
            "Test: new_F: 0.8616112020367339 best_F: 0.8722116860832656 \n",
            "310000 :  0.012279222801525108\n",
            "312000 :  0.01140355634698921\n",
            "314000 :  0.010718614725959901\n",
            "316000 :  0.010098191223499914\n",
            "318000 :  0.00817520921818486\n",
            "320000 :  0.010437877551788509\n",
            "322000 :  0.009812504871515642\n",
            "Train: new_F: 0.9960548482715971 best_F: 0.9958837204342355 \n",
            "Dev: new_F: 0.9115217576428511 best_F: 0.9179936983734992 \n",
            "Test: new_F: 0.8659403979472404 best_F: 0.8722116860832656 \n",
            "324000 :  0.015061147003165031\n",
            "326000 :  0.008646839400276189\n",
            "328000 :  0.008845901057177245\n",
            "330000 :  0.0059128187272710995\n",
            "332000 :  0.014676241918610724\n",
            "334000 :  0.010356433458633308\n",
            "336000 :  0.009688885729900449\n",
            "Train: new_F: 0.9959676559066374 best_F: 0.9960548482715971 \n",
            "Dev: new_F: 0.9155760841673083 best_F: 0.9179936983734992 \n",
            "Test: new_F: 0.8641260070607406 best_F: 0.8722116860832656 \n",
            "338000 :  0.008285801032897808\n",
            "340000 :  0.010366269471460353\n",
            "342000 :  0.011875924801906596\n",
            "344000 :  0.012754099475466896\n",
            "346000 :  0.011133582907005047\n",
            "348000 :  0.008904506667617306\n",
            "350000 :  0.009799371424342326\n",
            "Train: new_F: 0.9969921283358576 best_F: 0.9960548482715971 \n",
            "Dev: new_F: 0.9174327545114063 best_F: 0.9179936983734992 \n",
            "Test: new_F: 0.871258564731338 best_F: 0.8722116860832656 \n",
            "352000 :  0.007411755930049191\n",
            "354000 :  0.006610845771857056\n",
            "356000 :  0.008192646281310214\n",
            "358000 :  0.012075458146590713\n",
            "360000 :  0.007220879213642443\n",
            "362000 :  0.010321329895540462\n",
            "364000 :  0.007740406459986083\n",
            "Train: new_F: 0.9963330917153457 best_F: 0.9969921283358576 \n",
            "Dev: new_F: 0.9093074697975156 best_F: 0.9179936983734992 \n",
            "Test: new_F: 0.8545945945945945 best_F: 0.8722116860832656 \n",
            "366000 :  0.009992982564372104\n",
            "368000 :  0.006979991472869438\n",
            "370000 :  0.008576472085138922\n",
            "372000 :  0.009463544837079747\n",
            "374000 :  0.009951230253505472\n",
            "376000 :  0.007590816611654035\n",
            "378000 :  0.006181765272353522\n",
            "Train: new_F: 0.997014034040012 best_F: 0.9969921283358576 \n",
            "Dev: new_F: 0.9157921679037625 best_F: 0.9179936983734992 \n",
            "Test: new_F: 0.8670039754246476 best_F: 0.8722116860832656 \n",
            "380000 :  0.007231675512439378\n",
            "382000 :  0.00833273899298562\n",
            "384000 :  0.0043181145519298435\n",
            "386000 :  0.010340744661655443\n",
            "388000 :  0.006628607198392303\n",
            "390000 :  0.007382395435593742\n",
            "392000 :  0.008595729204002546\n",
            "Train: new_F: 0.9977603822280998 best_F: 0.997014034040012 \n",
            "Dev: new_F: 0.915508568505414 best_F: 0.9179936983734992 \n",
            "Test: new_F: 0.8679585398828302 best_F: 0.8722116860832656 \n",
            "394000 :  0.004849178147516032\n",
            "396000 :  0.009796802219941787\n",
            "398000 :  0.006964015706241702\n",
            "400000 :  0.006684841646935183\n",
            "402000 :  0.007689040931856568\n",
            "404000 :  0.005946694029185146\n",
            "406000 :  0.004058298692794394\n",
            "Train: new_F: 0.9980165923777432 best_F: 0.9977603822280998 \n",
            "Dev: new_F: 0.9165391806901241 best_F: 0.9179936983734992 \n",
            "Test: new_F: 0.8630161579892281 best_F: 0.8722116860832656 \n",
            "408000 :  0.005532847353967305\n",
            "410000 :  0.006560077139283704\n",
            "412000 :  0.005073547848766567\n",
            "414000 :  0.005130057450272199\n",
            "416000 :  0.0090405728801142\n",
            "418000 :  0.005944841724022592\n",
            "420000 :  0.005926678471727669\n",
            "Train: new_F: 0.997995479165778 best_F: 0.9980165923777432 \n",
            "Dev: new_F: 0.920218206614388 best_F: 0.9179936983734992 \n",
            "Saving Model to  /content/drive/MyDrive/NLP-assignment2/models/2021-11-03-CNN-CNN-6-Conv2d-CRF-MODEL\n",
            "Test: new_F: 0.8651918735891648 best_F: 0.8722116860832656 \n",
            "422000 :  0.004607894827046136\n",
            "424000 :  0.008662141113917696\n",
            "426000 :  0.006004218836300751\n",
            "428000 :  0.005482317274709671\n",
            "430000 :  0.007948427089033013\n",
            "432000 :  0.007547769374038435\n",
            "434000 :  0.009901190719518144\n",
            "Train: new_F: 0.9981657637674359 best_F: 0.9980165923777432 \n",
            "Dev: new_F: 0.9122179650915283 best_F: 0.920218206614388 \n",
            "Test: new_F: 0.859533879240529 best_F: 0.8722116860832656 \n",
            "436000 :  0.008035933272148691\n",
            "438000 :  0.008882371580337103\n",
            "440000 :  0.006210550269660115\n",
            "442000 :  0.007684231907951521\n",
            "444000 :  0.007326598257545284\n",
            "446000 :  0.003873984821235076\n",
            "448000 :  0.0059881231377494504\n",
            "Train: new_F: 0.9982300884955753 best_F: 0.9981657637674359 \n",
            "Dev: new_F: 0.9152628892291985 best_F: 0.920218206614388 \n",
            "Test: new_F: 0.8606049726236423 best_F: 0.8722116860832656 \n",
            "450000 :  0.007004938199078597\n",
            "452000 :  0.004081638160224412\n",
            "454000 :  0.005664192859230189\n",
            "456000 :  0.008474005736715699\n",
            "458000 :  0.004008260528984396\n",
            "460000 :  0.005478670661815446\n",
            "462000 :  0.00924936976960034\n",
            "Train: new_F: 0.9985712762554644 best_F: 0.9982300884955753 \n",
            "Dev: new_F: 0.9110676972734223 best_F: 0.920218206614388 \n",
            "Test: new_F: 0.8628786520881877 best_F: 0.8722116860832656 \n",
            "464000 :  0.008678059929840394\n",
            "466000 :  0.003707178601039541\n",
            "468000 :  0.005413797719335435\n",
            "470000 :  0.005095574227557866\n",
            "472000 :  0.0050060425176014205\n",
            "474000 :  0.004713822677070562\n",
            "476000 :  0.0070115776809864605\n",
            "Train: new_F: 0.9989764148931632 best_F: 0.9985712762554644 \n",
            "Dev: new_F: 0.9170640326975477 best_F: 0.920218206614388 \n",
            "Test: new_F: 0.863984156989828 best_F: 0.8722116860832656 \n",
            "478000 :  0.006041955100067165\n",
            "480000 :  0.009155387298177982\n",
            "482000 :  0.008123648386511258\n",
            "484000 :  0.00701454945167262\n",
            "486000 :  0.006338720112418656\n",
            "488000 :  0.007665380975863547\n",
            "490000 :  0.0038950470313293692\n",
            "Train: new_F: 0.9989548896235471 best_F: 0.9989764148931632 \n",
            "Dev: new_F: 0.9203810820006805 best_F: 0.920218206614388 \n",
            "Saving Model to  /content/drive/MyDrive/NLP-assignment2/models/2021-11-03-CNN-CNN-6-Conv2d-CRF-MODEL\n",
            "Test: new_F: 0.8675371454299864 best_F: 0.8722116860832656 \n",
            "492000 :  0.005683814147110311\n",
            "494000 :  0.005066192928440459\n",
            "496000 :  0.008451294471602273\n",
            "498000 :  0.004072942716005598\n",
            "500000 :  0.003382737815760823\n",
            "502000 :  0.003956326913460507\n",
            "504000 :  0.006023363624350767\n",
            "Train: new_F: 0.9989124640153535 best_F: 0.9989764148931632 \n",
            "Dev: new_F: 0.9143149458606872 best_F: 0.9203810820006805 \n",
            "Test: new_F: 0.8582015363759603 best_F: 0.8722116860832656 \n",
            "506000 :  0.0044851484301318915\n",
            "508000 :  0.00530490312815845\n",
            "510000 :  0.008841759456132083\n",
            "512000 :  0.005515880564312524\n",
            "514000 :  0.004145524047340368\n",
            "516000 :  0.002406019501732813\n",
            "518000 :  0.005191320764329501\n",
            "Train: new_F: 0.9990404094253118 best_F: 0.9989764148931632 \n",
            "Dev: new_F: 0.9185210544334134 best_F: 0.9203810820006805 \n",
            "Test: new_F: 0.8663945578231292 best_F: 0.8722116860832656 \n",
            "520000 :  0.007452702303868767\n",
            "522000 :  0.005916389974267483\n",
            "524000 :  0.00641130872300846\n",
            "526000 :  0.0033023420712858763\n",
            "528000 :  0.004789193161355933\n",
            "530000 :  0.007052238394862664\n",
            "532000 :  0.004604987139933161\n",
            "Train: new_F: 0.999104286628279 best_F: 0.9990404094253118 \n",
            "Dev: new_F: 0.9192588815230325 best_F: 0.9203810820006805 \n",
            "Test: new_F: 0.8673963753813028 best_F: 0.8722116860832656 \n",
            "534000 :  0.006222104523702387\n",
            "536000 :  0.0067733688581842364\n",
            "538000 :  0.00452269085001563\n",
            "540000 :  0.004062556962527796\n",
            "542000 :  0.0016702950377590021\n",
            "544000 :  0.005618951443881668\n",
            "546000 :  0.0032356771727252535\n",
            "Train: new_F: 0.9989765021962558 best_F: 0.999104286628279 \n",
            "Dev: new_F: 0.9163190601855792 best_F: 0.9203810820006805 \n",
            "Test: new_F: 0.8652099631328118 best_F: 0.8722116860832656 \n",
            "548000 :  0.004275597485672459\n",
            "550000 :  0.0032205612514956124\n",
            "552000 :  0.002645328932734782\n",
            "554000 :  0.004780865408143112\n",
            "556000 :  0.0055556348612597764\n",
            "558000 :  0.002062842774342205\n",
            "560000 :  0.005850687850305075\n",
            "Train: new_F: 0.9992749296255226 best_F: 0.999104286628279 \n",
            "Dev: new_F: 0.9135675814311363 best_F: 0.9203810820006805 \n",
            "Test: new_F: 0.8648453048670165 best_F: 0.8722116860832656 \n",
            "562000 :  0.003014309069502545\n",
            "564000 :  0.004651332377458522\n",
            "566000 :  0.0035085985292400137\n",
            "568000 :  0.004309763225502474\n",
            "570000 :  0.002981080013020064\n",
            "572000 :  0.005635878236383663\n",
            "574000 :  0.0038643202853479944\n",
            "Train: new_F: 0.9991895926636809 best_F: 0.9992749296255226 \n",
            "Dev: new_F: 0.9161411283449804 best_F: 0.9203810820006805 \n",
            "Test: new_F: 0.8660222242298311 best_F: 0.8722116860832656 \n",
            "576000 :  0.005845888929768969\n",
            "578000 :  0.0051166868942942745\n",
            "580000 :  0.00352729626461708\n",
            "582000 :  0.003464933328923934\n",
            "584000 :  0.003549233504357762\n",
            "586000 :  0.004269981620396957\n",
            "588000 :  0.005722410246232958\n",
            "Train: new_F: 0.9989552907063514 best_F: 0.9992749296255226 \n",
            "Dev: new_F: 0.9158655891110166 best_F: 0.9203810820006805 \n",
            "Test: new_F: 0.8703803857941229 best_F: 0.8722116860832656 \n",
            "590000 :  0.005377847773888837\n",
            "592000 :  0.0038587415559011074\n",
            "594000 :  0.004065647413528157\n",
            "596000 :  0.0029762752497631286\n",
            "598000 :  0.005133719087528138\n",
            "600000 :  0.004364732540238941\n",
            "602000 :  0.003478341578021681\n",
            "Train: new_F: 0.9990832533845005 best_F: 0.9992749296255226 \n",
            "Dev: new_F: 0.911727078891258 best_F: 0.9203810820006805 \n",
            "Test: new_F: 0.8650893985912949 best_F: 0.8722116860832656 \n",
            "604000 :  0.004024571580255348\n",
            "606000 :  0.002573479020980503\n",
            "608000 :  0.006031349906297048\n",
            "610000 :  0.004029570533048858\n",
            "612000 :  0.004319674456276738\n",
            "614000 :  0.0023701898923873766\n",
            "616000 :  0.0033105436311850743\n",
            "Train: new_F: 0.9993175808240212 best_F: 0.9992749296255226 \n",
            "Dev: new_F: 0.9143003325658736 best_F: 0.9203810820006805 \n",
            "Test: new_F: 0.8680336013006956 best_F: 0.8722116860832656 \n",
            "618000 :  0.00673191827026998\n",
            "620000 :  0.0018640248613302263\n",
            "622000 :  0.005153032545285368\n",
            "624000 :  0.00270387797998747\n",
            "626000 :  0.0030587750458482056\n",
            "628000 :  0.004452687280769684\n",
            "630000 :  0.0025759660427436947\n",
            "Train: new_F: 0.999338892324753 best_F: 0.9993175808240212 \n",
            "Dev: new_F: 0.9187393526405452 best_F: 0.9203810820006805 \n",
            "Test: new_F: 0.867087466185753 best_F: 0.8722116860832656 \n",
            "632000 :  0.0027398251131506616\n",
            "634000 :  0.003313046276163862\n",
            "636000 :  0.0023567429179136997\n",
            "638000 :  0.0031498934545035272\n",
            "640000 :  0.005458566820469519\n",
            "642000 :  0.003971274620838585\n",
            "644000 :  0.003578123057113695\n",
            "Train: new_F: 0.9994455344195172 best_F: 0.999338892324753 \n",
            "Dev: new_F: 0.9191807597518483 best_F: 0.9203810820006805 \n",
            "Test: new_F: 0.8767887678876788 best_F: 0.8722116860832656 \n",
            "646000 :  0.0032903000738570653\n",
            "648000 :  0.006251078046329218\n",
            "650000 :  0.002811773311886625\n",
            "652000 :  0.0020161147701029873\n",
            "654000 :  0.0037983183262296884\n",
            "656000 :  0.004007770113546878\n",
            "658000 :  0.0016486641950534682\n",
            "Train: new_F: 0.9995096053389054 best_F: 0.9994455344195172 \n",
            "Dev: new_F: 0.9196322152222033 best_F: 0.9203810820006805 \n",
            "Test: new_F: 0.8722808917772362 best_F: 0.8767887678876788 \n",
            "660000 :  0.007711724508097532\n",
            "662000 :  0.002728554208193647\n",
            "664000 :  0.004151242500778137\n",
            "666000 :  0.002136259896660979\n",
            "668000 :  0.0029378581002953113\n",
            "670000 :  0.001828128729745872\n",
            "672000 :  0.0033236817770248787\n",
            "Train: new_F: 0.9994669395935948 best_F: 0.9995096053389054 \n",
            "Dev: new_F: 0.9165107974834212 best_F: 0.9203810820006805 \n",
            "Test: new_F: 0.8665586169638034 best_F: 0.8767887678876788 \n",
            "674000 :  0.0027869586305259712\n",
            "676000 :  0.002070139294330916\n",
            "678000 :  0.003818913687207357\n",
            "680000 :  0.004398923383882426\n",
            "682000 :  0.0028452991759318307\n",
            "684000 :  0.0020606653179849254\n",
            "686000 :  0.0019699757448807627\n",
            "688000 :  0.004813612063058645\n",
            "Train: new_F: 0.9994455344195172 best_F: 0.9995096053389054 \n",
            "Dev: new_F: 0.9207643312101911 best_F: 0.9203810820006805 \n",
            "Saving Model to  /content/drive/MyDrive/NLP-assignment2/models/2021-11-03-CNN-CNN-6-Conv2d-CRF-MODEL\n",
            "Test: new_F: 0.8693855551563061 best_F: 0.8767887678876788 \n",
            "19896.432465553284\n"
          ]
        },
        {
          "data": {
            "image/png": "[encoded data removed]",
            "text/plain": [
              "<Figure size 480x320 with 1 Axes>"
            ]
          },
          "metadata": {
            "needs_background": "light"
          },
          "output_type": "display_data"
        }
      ],
      "source": [
        "# parameters['reload']=False\n",
        "\n",
        "# if not parameters['reload']:\n",
        "#     tr = time.time()\n",
        "#     model.train(True)\n",
        "#     for epoch in range(1,number_of_epochs):\n",
        "#       for i, index in enumerate(np.random.permutation(len(train_data))):\n",
        "#           count += 1\n",
        "#           data = train_data[index]\n",
        "\n",
        "#           ##gradient updates for each data entry\n",
        "#           model.zero_grad()\n",
        "\n",
        "#           sentence_in = data['words']\n",
        "#           sentence_in = Variable(torch.LongTensor(sentence_in))\n",
        "#           tags = data['tags']\n",
        "#           chars2 = data['chars']\n",
        "          \n",
        "#           if parameters['char_mode'] == 'LSTM':\n",
        "#               chars2_sorted = sorted(chars2, key=lambda p: len(p), reverse=True)\n",
        "#               d = {}\n",
        "#               for i, ci in enumerate(chars2):\n",
        "#                   for j, cj in enumerate(chars2_sorted):\n",
        "#                       if ci == cj and not j in d and not i in d.values():\n",
        "#                           d[j] = i\n",
        "#                           continue\n",
        "#               chars2_length = [len(c) for c in chars2_sorted]\n",
        "#               char_maxl = max(chars2_length)\n",
        "#               chars2_mask = np.zeros((len(chars2_sorted), char_maxl), dtype='int')\n",
        "#               for i, c in enumerate(chars2_sorted):\n",
        "#                   chars2_mask[i, :chars2_length[i]] = c\n",
        "#               chars2_mask = Variable(torch.LongTensor(chars2_mask))\n",
        "          \n",
        "#           if parameters['char_mode'] == 'CNN':\n",
        "\n",
        "#               d = {}\n",
        "\n",
        "#               ## Padding the each word to max word size of that sentence\n",
        "#               chars2_length = [len(c) for c in chars2]\n",
        "#               char_maxl = max(chars2_length)\n",
        "#               chars2_mask = np.zeros((len(chars2_length), char_maxl), dtype='int')\n",
        "#               for i, c in enumerate(chars2):\n",
        "#                   chars2_mask[i, :chars2_length[i]] = c\n",
        "#               chars2_mask = Variable(torch.LongTensor(chars2_mask))\n",
        "\n",
        "\n",
        "#           targets = torch.LongTensor(tags)\n",
        "\n",
        "#           #we calculate the negative log-likelihood for the predicted tags using the predefined function\n",
        "#           if use_gpu:\n",
        "#               neg_log_likelihood = model.neg_log_likelihood(sentence_in.cuda(), targets.cuda(), chars2_mask.cuda(), chars2_length, d)\n",
        "#           else:\n",
        "#               neg_log_likelihood = model.neg_log_likelihood(sentence_in, targets, chars2_mask, chars2_length, d)\n",
        "#           # print(neg_log_likelihood.data.item())\n",
        "#           # break\n",
        "#           loss += neg_log_likelihood.data.item()/ len(data['words'])\n",
        "#           neg_log_likelihood.backward()\n",
        "\n",
        "#           #we use gradient clipping to avoid exploding gradients\n",
        "#           torch.nn.utils.clip_grad_norm(model.parameters(), gradient_clip)\n",
        "#           optimizer.step()\n",
        "\n",
        "#           #Storing loss\n",
        "#           if count % plot_every == 0:\n",
        "#               loss /= plot_every\n",
        "#               print(count, ': ', loss)\n",
        "#               if losses == []:\n",
        "#                   losses.append(loss)\n",
        "#               losses.append(loss)\n",
        "#               loss = 0.0\n",
        "\n",
        "#           #Evaluating on Train, Test, Dev Sets\n",
        "#           if count % (eval_every) == 0 and count > (eval_every * 20) or \\\n",
        "#                   count % (eval_every) == 0 and count <= (eval_every * 20) :\n",
        "#               model.train(False)\n",
        "#               best_train_F, new_train_F, _ = evaluating(model, train_data, best_train_F,\"Train\")\n",
        "#               best_dev_F, new_dev_F, save = evaluating(model, dev_data, best_dev_F,\"Dev\")\n",
        "#               if save:\n",
        "#                   print(\"Saving Model to \", model_name)\n",
        "#                   torch.save(model.state_dict(), model_name)\n",
        "#               best_test_F, new_test_F, _ = evaluating(model, test_data, best_test_F,\"Test\")\n",
        "\n",
        "#               all_F.append([new_train_F, new_dev_F, new_test_F])\n",
        "#               model.train(True)\n",
        "          \n",
        "#           #Performing decay on the learning rate\n",
        "#           if count % len(train_data) == 0:\n",
        "#               adjust_learning_rate(optimizer, lr=learning_rate/(1+decay_rate*count/len(train_data)))\n",
        "\n",
        "#     print(time.time() - tr)\n",
        "#     plt.plot(losses)\n",
        "#     plt.show()\n",
        "\n",
        "# if not parameters['reload']:\n",
        "#     #reload the best model saved from training\n",
        "#     model.load_state_dict(torch.load(model_name))\n",
        "parameters['reload']=False\n",
        "\n",
        "data_dummy = pd.DataFrame(columns=['correct_preds','total_preds','total_correct','new_F','best_F'])\n",
        "data_dummy.to_csv(\"/content/drive/MyDrive/NLP-assignment2/stats/\"+str(parameters['cnn_layers'])+\"Train.csv\",index=False)\n",
        "data_dummy.to_csv(\"/content/drive/MyDrive/NLP-assignment2/stats/\"+str(parameters['cnn_layers'])+\"Test.csv\",index=False)\n",
        "data_dummy.to_csv(\"/content/drive/MyDrive/NLP-assignment2/stats/\"+str(parameters['cnn_layers'])+\"Dev.csv\",index=False)\n",
        "\n",
        "if not parameters['reload']:\n",
        "    tr = time.time()\n",
        "    model.train(True)\n",
        "    for epoch in range(1,number_of_epochs):\n",
        "      for i, index in enumerate(np.random.permutation(len(train_data))):\n",
        "\n",
        "          count += 1\n",
        "          data = train_data[index]\n",
        "\n",
        "          ##gradient updates for each data entry\n",
        "          model.zero_grad()\n",
        "\n",
        "          sentence_in = data['words']\n",
        "          sentence_in = Variable(torch.LongTensor(sentence_in))\n",
        "          tags = data['tags']\n",
        "          chars2 = data['chars']\n",
        "          \n",
        "          if parameters['char_mode'] == 'LSTM':\n",
        "              chars2_sorted = sorted(chars2, key=lambda p: len(p), reverse=True)\n",
        "              d = {}\n",
        "              for i, ci in enumerate(chars2):\n",
        "                  for j, cj in enumerate(chars2_sorted):\n",
        "                      if ci == cj and not j in d and not i in d.values():\n",
        "                          d[j] = i\n",
        "                          continue\n",
        "              chars2_length = [len(c) for c in chars2_sorted]\n",
        "              char_maxl = max(chars2_length)\n",
        "              chars2_mask = np.zeros((len(chars2_sorted), char_maxl), dtype='int')\n",
        "              for i, c in enumerate(chars2_sorted):\n",
        "                  chars2_mask[i, :chars2_length[i]] = c\n",
        "              chars2_mask = Variable(torch.LongTensor(chars2_mask))\n",
        "          \n",
        "          if parameters['char_mode'] == 'CNN':\n",
        "\n",
        "              d = {}\n",
        "\n",
        "              ## Padding the each word to max word size of that sentence\n",
        "              chars2_length = [len(c) for c in chars2]\n",
        "              char_maxl = max(chars2_length)\n",
        "              chars2_mask = np.zeros((len(chars2_length), char_maxl), dtype='int')\n",
        "              for i, c in enumerate(chars2):\n",
        "                  chars2_mask[i, :chars2_length[i]] = c\n",
        "              chars2_mask = Variable(torch.LongTensor(chars2_mask))\n",
        "\n",
        "\n",
        "          targets = torch.LongTensor(tags)\n",
        "\n",
        "          #we calculate the negative log-likelihood for the predicted tags using the predefined function\n",
        "          if use_gpu:\n",
        "              neg_log_likelihood = model.neg_log_likelihood(sentence_in.cuda(), targets.cuda(), chars2_mask.cuda(), chars2_length, d)\n",
        "          else:\n",
        "              neg_log_likelihood = model.neg_log_likelihood(sentence_in, targets, chars2_mask, chars2_length, d)\n",
        "          # print(neg_log_likelihood.data.item())\n",
        "          # break\n",
        "          loss += neg_log_likelihood.data.item()/ len(data['words'])\n",
        "          neg_log_likelihood.backward()\n",
        "\n",
        "          #we use gradient clipping to avoid exploding gradients\n",
        "          torch.nn.utils.clip_grad_norm(model.parameters(), gradient_clip)\n",
        "          optimizer.step()\n",
        "\n",
        "          #Storing loss\n",
        "          if count % plot_every == 0:\n",
        "              loss /= plot_every\n",
        "              print(count, ': ', loss)\n",
        "              if losses == []:\n",
        "                  losses.append(loss)\n",
        "              losses.append(loss)\n",
        "              loss = 0.0\n",
        "\n",
        "          #Evaluating on Train, Test, Dev Sets\n",
        "          if count % (eval_every) == 0 and count > (eval_every * 20) or \\\n",
        "                  count % (eval_every) == 0 and count <= (eval_every * 20) :\n",
        "              model.train(False)\n",
        "              best_train_F, new_train_F, _ = evaluating(model, train_data, best_train_F,\"Train\")\n",
        "              best_dev_F, new_dev_F, save = evaluating(model, dev_data, best_dev_F,\"Dev\")\n",
        "              if save:\n",
        "                  print(\"Saving Model to \", model_name)\n",
        "                  torch.save(model.state_dict(), model_name)\n",
        "              best_test_F, new_test_F, _ = evaluating(model, test_data, best_test_F,\"Test\")\n",
        "\n",
        "              all_F.append([new_train_F, new_dev_F, new_test_F])\n",
        "              model.train(True)\n",
        "          \n",
        "          #Performing decay on the learning rate\n",
        "          if count % len(train_data) == 0:\n",
        "              adjust_learning_rate(optimizer, lr=learning_rate/(1+decay_rate*count/len(train_data)))\n",
        "\n",
        "    print(time.time() - tr)\n",
        "    plt.plot(losses)\n",
        "    plt.show()\n",
        "\n",
        "if not parameters['reload']:\n",
        "    #reload the best model saved from training\n",
        "    model.load_state_dict(torch.load(model_name))"
      ]
    },
    {
      "cell_type": "markdown",
      "metadata": {
        "id": "3x_MgFStd8bb"
      },
      "source": [
        "### Model Testing\n",
        "\n",
        "This is where we provide our readers with some fun, they can try out how the trained model functions on the sentences that you throw at it. Feel free to play around.\n",
        "\n",
        "\n",
        "##### LIVE: PRODUCTION!"
      ]
    },
    {
      "cell_type": "code",
      "execution_count": null,
      "metadata": {
        "colab": {
          "base_uri": "https://localhost:8080/"
        },
        "id": "oHBS4689d8bb",
        "outputId": "f8b29c18-8e6e-4656-ceb7-ec39968260cb"
      },
      "outputs": [
        {
          "name": "stdout",
          "output_type": "stream",
          "text": [
            "Prediction:\n",
            "word : tag\n",
            "Jay : PER\n",
            "is : NA\n",
            "from : NA\n",
            "India : LOC\n",
            "\n",
            "\n",
            "Donald : PER\n",
            "is : NA\n",
            "the : NA\n",
            "president : NA\n",
            "of : NA\n",
            "USA : LOC\n",
            "\n",
            "\n"
          ]
        }
      ],
      "source": [
        "model_testing_sentences = ['Jay is from India','Donald is the president of USA']\n",
        "\n",
        "#parameters\n",
        "lower=parameters['lower']\n",
        "\n",
        "#preprocessing\n",
        "final_test_data = []\n",
        "for sentence in model_testing_sentences:\n",
        "    s=sentence.split()\n",
        "    str_words = [w for w in s]\n",
        "    words = [word_to_id[lower_case(w,lower) if lower_case(w,lower) in word_to_id else '<UNK>'] for w in str_words]\n",
        "    \n",
        "    # Skip characters that are not in the training set\n",
        "    chars = [[char_to_id[c] for c in w if c in char_to_id] for w in str_words]\n",
        "    \n",
        "    final_test_data.append({\n",
        "        'str_words': str_words,\n",
        "        'words': words,\n",
        "        'chars': chars,\n",
        "    })\n",
        "\n",
        "#prediction\n",
        "predictions = []\n",
        "print(\"Prediction:\")\n",
        "print(\"word : tag\")\n",
        "for data in final_test_data:\n",
        "    words = data['str_words']\n",
        "    chars2 = data['chars']\n",
        "\n",
        "    d = {} \n",
        "    \n",
        "    # Padding the each word to max word size of that sentence\n",
        "    chars2_length = [len(c) for c in chars2]\n",
        "    char_maxl = max(chars2_length)\n",
        "    chars2_mask = np.zeros((len(chars2_length), char_maxl), dtype='int')\n",
        "    for i, c in enumerate(chars2):\n",
        "        chars2_mask[i, :chars2_length[i]] = c\n",
        "    chars2_mask = Variable(torch.LongTensor(chars2_mask))\n",
        "\n",
        "    dwords = Variable(torch.LongTensor(data['words']))\n",
        "\n",
        "    # We are getting the predicted output from our model\n",
        "    if use_gpu:\n",
        "        val,predicted_id = model(dwords.cuda(), chars2_mask.cuda(), chars2_length, d)\n",
        "    else:\n",
        "        val,predicted_id = model(dwords, chars2_mask, chars2_length, d)\n",
        "\n",
        "    pred_chunks = get_chunks(predicted_id,tag_to_id)\n",
        "    temp_list_tags=['NA']*len(words)\n",
        "    for p in pred_chunks:\n",
        "        temp_list_tags[p[1]]=p[0]\n",
        "        \n",
        "    for word,tag in zip(words,temp_list_tags):\n",
        "        print(word,':',tag)\n",
        "    print('\\n')"
      ]
    },
    {
      "cell_type": "markdown",
      "metadata": {
        "id": "3iyCTOmRd8bc"
      },
      "source": [
        "### References"
      ]
    },
    {
      "cell_type": "markdown",
      "metadata": {
        "id": "IQG04-asd8bc"
      },
      "source": [
        "1) Xuezhe Ma and Eduard Hovy. 2016. ** End-to-end Sequence Labeling via Bi-directional LSTM-CNNs-CRF .** In Proceedings of the 54th Annual Meeting of the Association for Computational Linguistics (Volume 1: LongPapers). Association for Computational Linguistics, Berlin, Germany ** (https://arxiv.org/pdf/1603.01354.pdf) **\n",
        "\n",
        "2) Official PyTorch Tutorial : [** Advanced: Making Dynamic Decisions and the Bi-LSTM CRF **](http://pytorch.org/tutorials/beginner/nlp/advanced_tutorial.html#sphx-glr-beginner-nlp-advanced-tutorial-py)\n",
        "\n",
        "3) [** Sequence Tagging with Tensorflow **](https://guillaumegenthial.github.io/sequence-tagging-with-tensorflow.html)  using bi-LSTM + CRF with character embeddings for NER and POS by Guillaume Genthial\n",
        "\n",
        "4) Github Repository - [** Reference Github Repository **](https://github.com/jayavardhanr/End-to-end-Sequence-Labeling-via-Bi-directional-LSTM-CNNs-CRF-Tutorial)\n"
      ]
    }
  ],
  "metadata": {
    "accelerator": "GPU",
    "colab": {
      "name": "Copy of NLP-assignment1-NER.ipynb",
      "provenance": []
    },
    "interpreter": {
      "hash": "aee8b7b246df8f9039afb4144a1f6fd8d2ca17a180786b69acc140d282b71a49"
    },
    "kernelspec": {
      "display_name": "Python 3.9.6 64-bit",
      "name": "python3"
    },
    "language_info": {
      "codemirror_mode": {
        "name": "ipython",
        "version": 3
      },
      "file_extension": ".py",
      "mimetype": "text/x-python",
      "name": "python",
      "nbconvert_exporter": "python",
      "pygments_lexer": "ipython3",
      "version": "3.9.6"
    }
  },
  "nbformat": 4,
  "nbformat_minor": 0
}
